{
 "cells": [
  {
   "cell_type": "markdown",
   "metadata": {},
   "source": [
    "### Tools for taking the HTML problem content from a Project Euler problem and converting it to display correctly in notebooks.\n",
    "\n",
    "First, the conversion function:"
   ]
  },
  {
   "cell_type": "code",
   "execution_count": 9,
   "metadata": {},
   "outputs": [
    {
     "name": "stdout",
     "output_type": "stream",
     "text": [
      "This is a paragraph with $E=mc^2$ in LaTeX.\n",
      "\n",
      "Another paragraph with $\\frac{a}{b}$ in LaTeX.\n",
      "\n"
     ]
    }
   ],
   "source": [
    "import html2text\n",
    "from bs4 import BeautifulSoup\n",
    "\n",
    "def convert_html_to_markdown(html_string):\n",
    "    # Parse the HTML string with BeautifulSoup\n",
    "    soup = BeautifulSoup(html_string, 'html.parser')\n",
    "\n",
    "    # Find and convert LaTeX elements\n",
    "    for latex in soup.find_all('span', class_='latex'):\n",
    "        latex.string = f\"${latex.string}$\"\n",
    "\n",
    "    # Convert the modified HTML to Markdown\n",
    "    html_string = str(soup)\n",
    "    markdown = html2text.html2text(html_string, bodywidth=0)\n",
    "\n",
    "    # Replace double backslashes with single backslashes in LaTeX expressions\n",
    "    markdown = markdown.replace('\\\\\\\\', '\\\\')\n",
    "\n",
    "    return markdown\n",
    "\n",
    "# Example usage:\n",
    "html_string = \"\"\"\n",
    "<p>This is a paragraph with <span class=\"latex\">E=mc^2</span> in LaTeX.</p>\n",
    "<p>Another paragraph with <span class=\"latex\">\\\\frac{a}{b}</span> in LaTeX.</p>\n",
    "\"\"\"\n",
    "\n",
    "markdown = convert_html_to_markdown(html_string)\n",
    "print(markdown)"
   ]
  },
  {
   "cell_type": "markdown",
   "metadata": {},
   "source": [
    "### Testing the conversion function with ultra-simple input:"
   ]
  },
  {
   "cell_type": "markdown",
   "metadata": {},
   "source": [
    "This is a paragraph with $E=mc^2$ in LaTeX.\n",
    "\n",
    "Another paragraph with $\\frac{a}{b}$ in LaTeX."
   ]
  },
  {
   "cell_type": "markdown",
   "metadata": {},
   "source": [
    "### Converting actual problems\n",
    "\n",
    "Just copy the cell output to use:"
   ]
  },
  {
   "cell_type": "code",
   "execution_count": 10,
   "metadata": {},
   "outputs": [
    {
     "name": "stdout",
     "output_type": "stream",
     "text": [
      "Take the number $192$ and multiply it by each of $1$, $2$, and $3$:\n",
      "\n",
      "\\begin{align} 192 \\times 1 &= 192\\\\ 192 \\times 2 &= 384\\\\ 192 \\times 3 &= 576 \\end{align} \n",
      "\n",
      "By concatenating each product we get the $1$ to $9$ pandigital, $192384576$. We will call $192384576$ the concatenated product of $192$ and $(1,2,3)$.\n",
      "\n",
      "The same can be achieved by starting with $9$ and multiplying by $1$, $2$, $3$, $4$, and $5$, giving the pandigital, $918273645$, which is the concatenated product of $9$ and $(1,2,3,4,5)$.\n",
      "\n",
      "What is the largest $1$ to $9$ pandigital $9$-digit number that can be formed as the concatenated product of an integer with $(1,2, \\dots, n)$ where $n \\gt 1$?\n",
      "\n"
     ]
    }
   ],
   "source": [
    "content = r'''\n",
    "<p>Take the number $192$ and multiply it by each of $1$, $2$, and $3$:</p>\n",
    "\\begin{align}\n",
    "192 \\times 1 &amp;= 192\\\\\n",
    "192 \\times 2 &amp;= 384\\\\\n",
    "192 \\times 3 &amp;= 576\n",
    "\\end{align}\n",
    "<p>By concatenating each product we get the $1$ to $9$ pandigital, $192384576$. We will call $192384576$ the concatenated product of $192$ and $(1,2,3)$.</p>\n",
    "<p>The same can be achieved by starting with $9$ and multiplying by $1$, $2$, $3$, $4$, and $5$, giving the pandigital, $918273645$, which is the concatenated product of $9$ and $(1,2,3,4,5)$.</p>\n",
    "<p>What is the largest $1$ to $9$ pandigital $9$-digit number that can be formed as the concatenated product of an integer with $(1,2, \\dots, n)$ where $n \\gt 1$?</p>\n",
    "'''\n",
    "\n",
    "print(convert_html_to_markdown(content))"
   ]
  },
  {
   "cell_type": "markdown",
   "metadata": {},
   "source": [
    "### Testing the output:"
   ]
  },
  {
   "cell_type": "markdown",
   "metadata": {},
   "source": [
    "Take the number $192$ and multiply it by each of $1$, $2$, and $3$:\n",
    "\n",
    "\\begin{align} 192 \\times 1 &= 192\\\\ 192 \\times 2 &= 384\\\\ 192 \\times 3 &= 576 \\end{align} \n",
    "\n",
    "By concatenating each product we get the $1$ to $9$ pandigital, $192384576$. We will call $192384576$ the concatenated product of $192$ and $(1,2,3)$.\n",
    "\n",
    "The same can be achieved by starting with $9$ and multiplying by $1$, $2$, $3$, $4$, and $5$, giving the pandigital, $918273645$, which is the concatenated product of $9$ and $(1,2,3,4,5)$.\n",
    "\n",
    "What is the largest $1$ to $9$ pandigital $9$-digit number that can be formed as the concatenated product of an integer with $(1,2, \\dots, n)$ where $n \\gt 1$?"
   ]
  },
  {
   "cell_type": "markdown",
   "metadata": {},
   "source": [
    "### Moar problems!"
   ]
  },
  {
   "cell_type": "code",
   "execution_count": 12,
   "metadata": {},
   "outputs": [
    {
     "name": "stdout",
     "output_type": "stream",
     "text": [
      "If $p$ is the perimeter of a right angle triangle with integral length sides, $\\{a, b, c\\}$, there are exactly three solutions for $p = 120$.\n",
      "\n",
      "$\\{20,48,52\\}$, $\\{24,45,51\\}$, $\\{30,40,50\\}$\n",
      "\n",
      "For which value of $p \\le 1000$, is the number of solutions maximised?\n",
      "\n"
     ]
    }
   ],
   "source": [
    "content = r'''\n",
    "<p>If $p$ is the perimeter of a right angle triangle with integral length sides, $\\{a, b, c\\}$, there are exactly three solutions for $p = 120$.</p>\n",
    "<p>$\\{20,48,52\\}$, $\\{24,45,51\\}$, $\\{30,40,50\\}$</p>\n",
    "<p>For which value of $p \\le 1000$, is the number of solutions maximised?</p>\n",
    "'''\n",
    "\n",
    "print(convert_html_to_markdown(content))"
   ]
  },
  {
   "cell_type": "markdown",
   "metadata": {},
   "source": [
    "If $p$ is the perimeter of a right angle triangle with integral length sides, $\\{a, b, c\\}$, there are exactly three solutions for $p = 120$.\n",
    "\n",
    "$\\{20,48,52\\}$, $\\{24,45,51\\}$, $\\{30,40,50\\}$\n",
    "\n",
    "For which value of $p \\le 1000$, is the number of solutions maximised?"
   ]
  }
 ],
 "metadata": {
  "kernelspec": {
   "display_name": ".venv",
   "language": "python",
   "name": "python3"
  },
  "language_info": {
   "codemirror_mode": {
    "name": "ipython",
    "version": 3
   },
   "file_extension": ".py",
   "mimetype": "text/x-python",
   "name": "python",
   "nbconvert_exporter": "python",
   "pygments_lexer": "ipython3",
   "version": "3.12.3"
  }
 },
 "nbformat": 4,
 "nbformat_minor": 2
}
