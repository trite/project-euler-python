{
 "cells": [
  {
   "cell_type": "markdown",
   "metadata": {},
   "source": [
    "The prime factors of $13195$ are $5, 7, 13$ and $29$.\n",
    "\n",
    "What is the largest prime factor of the number $600851475143$?"
   ]
  },
  {
   "cell_type": "code",
   "execution_count": 3,
   "metadata": {},
   "outputs": [
    {
     "name": "stdout",
     "output_type": "stream",
     "text": [
      "[5, 7, 13, 29]\n",
      "6857\n"
     ]
    }
   ],
   "source": [
    "def prime_factors(x):\n",
    "    factors = []\n",
    "    i = 2\n",
    "    while i * i <= x:\n",
    "        if x % i:\n",
    "            i += 1\n",
    "        else:\n",
    "            x //= i\n",
    "            factors.append(i)\n",
    "    if x > 1:\n",
    "        factors.append(x)\n",
    "    return factors\n",
    "\n",
    "print(prime_factors(13195))\n",
    "\n",
    "# Solution: 6857\n",
    "print(max(prime_factors(600851475143)))"
   ]
  },
  {
   "cell_type": "markdown",
   "metadata": {},
   "source": [
    "# Original:"
   ]
  },
  {
   "cell_type": "code",
   "execution_count": 1,
   "metadata": {},
   "outputs": [
    {
     "name": "stdout",
     "output_type": "stream",
     "text": [
      "Answer: 6857\n"
     ]
    }
   ],
   "source": [
    "primes, current, target = [2, 3, 5], 7, 600851475143\n",
    "sqrttar = int(target ** (1/2))\n",
    "while current <= sqrttar:\n",
    "    sqrcur = int(current ** (1/2))\n",
    "    found = False\n",
    "    for x in primes:\n",
    "        if (x > sqrcur):\n",
    "            break\n",
    "        if (current % x == 0):\n",
    "            found = True\n",
    "            break\n",
    "    if (found == False):\n",
    "        primes.append(current)\n",
    "    current += 2\n",
    "print('Answer: ' + str(max([x for x in primes if target % x == 0])))"
   ]
  }
 ],
 "metadata": {
  "kernelspec": {
   "display_name": ".venv",
   "language": "python",
   "name": "python3"
  },
  "language_info": {
   "codemirror_mode": {
    "name": "ipython",
    "version": 3
   },
   "file_extension": ".py",
   "mimetype": "text/x-python",
   "name": "python",
   "nbconvert_exporter": "python",
   "pygments_lexer": "ipython3",
   "version": "3.12.3"
  }
 },
 "nbformat": 4,
 "nbformat_minor": 2
}
