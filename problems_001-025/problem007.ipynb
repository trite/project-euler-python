{
 "cells": [
  {
   "cell_type": "markdown",
   "metadata": {},
   "source": [
    "By listing the first six prime numbers: $2, 3, 5, 7, 11$, and $13$, we can see that the $6$th prime is $13$.\n",
    "\n",
    "What is the $10\\,001$ st prime number?"
   ]
  },
  {
   "cell_type": "code",
   "execution_count": 4,
   "metadata": {},
   "outputs": [
    {
     "name": "stdout",
     "output_type": "stream",
     "text": [
      "7\n",
      "11\n",
      "13\n"
     ]
    }
   ],
   "source": [
    "def next_prime(n, primes=[]):\n",
    "  if n < 2:\n",
    "    return 2\n",
    "  if n == 2:\n",
    "    return 3\n",
    "  if n == 3:\n",
    "    return 5\n",
    "  if not primes:\n",
    "    primes = [2, 3]\n",
    "  while True:\n",
    "    n += 2\n",
    "    if all(n % x != 0 for x in filter(lambda y: y <= n**1/2, primes)):\n",
    "      return n\n",
    "    # for x in filter(lambda y: y <= n**1/2, primes):\n",
    "    #   if n % x == 0:\n",
    "    #     return n, primes.append(n)\n",
    "\n",
    "print(next_prime(5))\n",
    "print(next_prime(7))\n",
    "print(next_prime(11))"
   ]
  },
  {
   "cell_type": "code",
   "execution_count": 8,
   "metadata": {},
   "outputs": [
    {
     "name": "stdout",
     "output_type": "stream",
     "text": [
      "[2, 3, 5, 7, 11, 13]\n",
      "13\n",
      "104743\n"
     ]
    }
   ],
   "source": [
    "def n_primes(n):\n",
    "  primes = []\n",
    "  for _ in range(n):\n",
    "    primes.append(next_prime(primes[-1] if primes else 0, primes))\n",
    "  return primes\n",
    "\n",
    "def nth_prime(n):\n",
    "  return n_primes(n)[-1]\n",
    "\n",
    "print(n_primes(6))\n",
    "print(nth_prime(6))\n",
    "\n",
    "# Solution: 104743\n",
    "print(nth_prime(10001))"
   ]
  },
  {
   "cell_type": "markdown",
   "metadata": {},
   "source": [
    "# Original:"
   ]
  },
  {
   "cell_type": "code",
   "execution_count": 1,
   "metadata": {},
   "outputs": [
    {
     "name": "stdout",
     "output_type": "stream",
     "text": [
      "Answer: 104743\n"
     ]
    }
   ],
   "source": [
    "primes, currentPrime, largest, currentCount, target = [2, 3, 5], 5, 7, 3, 10001\n",
    "while currentCount <= target:\n",
    "    sqrcur = int(currentPrime ** (1/2))\n",
    "    found = False\n",
    "    for x in primes:\n",
    "        if (x > sqrcur):\n",
    "            break\n",
    "        if (currentPrime % x == 0):\n",
    "            found = True\n",
    "            break\n",
    "    if (found == False):\n",
    "        primes.append(currentPrime)\n",
    "        largest = currentPrime\n",
    "        currentCount += 1\n",
    "    currentPrime += 2\n",
    "print('Answer: ' + str(largest))"
   ]
  }
 ],
 "metadata": {
  "kernelspec": {
   "display_name": ".venv",
   "language": "python",
   "name": "python3"
  },
  "language_info": {
   "codemirror_mode": {
    "name": "ipython",
    "version": 3
   },
   "file_extension": ".py",
   "mimetype": "text/x-python",
   "name": "python",
   "nbconvert_exporter": "python",
   "pygments_lexer": "ipython3",
   "version": "3.12.3"
  }
 },
 "nbformat": 4,
 "nbformat_minor": 2
}
