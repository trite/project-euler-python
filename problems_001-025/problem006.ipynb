{
 "cells": [
  {
   "cell_type": "markdown",
   "metadata": {},
   "source": [
    "The sum of the squares of the first ten natural numbers is,\n",
    "\n",
    "$$1^2 + 2^2 + ... + 10^2 = 385.$$\n",
    "\n",
    "The square of the sum of the first ten natural numbers is,\n",
    "\n",
    "$$(1 + 2 + ... + 10)^2 = 55^2 = 3025.$$\n",
    "\n",
    "Hence the difference between the sum of the squares of the first ten natural numbers and the square of the sum is $3025 - 385 = 2640$.\n",
    "\n",
    "Find the difference between the sum of the squares of the first one hundred natural numbers and the square of the sum."
   ]
  },
  {
   "cell_type": "code",
   "execution_count": null,
   "metadata": {},
   "outputs": [
    {
     "name": "stdout",
     "output_type": "stream",
     "text": [
      "2640\n",
      "25164150\n"
     ]
    }
   ],
   "source": [
    "def sum_of_squares(x):\n",
    "  return sum([i**2 for i in range(1, x+1)])\n",
    "\n",
    "def square_of_sum(x):\n",
    "  return sum([i for i in range(1, x+1)])**2\n",
    "\n",
    "def difference(x):\n",
    "  return abs(square_of_sum(x) - sum_of_squares(x))\n",
    "\n",
    "print(difference(10))\n",
    "\n",
    "# Solution: 25164150\n",
    "print(difference(100))"
   ]
  },
  {
   "cell_type": "markdown",
   "metadata": {},
   "source": [
    "# Original:"
   ]
  },
  {
   "cell_type": "code",
   "execution_count": 1,
   "metadata": {},
   "outputs": [
    {
     "name": "stdout",
     "output_type": "stream",
     "text": [
      "Answer: 25164150\n"
     ]
    }
   ],
   "source": [
    "maxValue = 100\n",
    "\n",
    "def SumOfSquares(nMax):\n",
    "    return sum([x ** 2 for x in range(1, nMax + 1)])\n",
    "\n",
    "def SquareOfSums(nMax):\n",
    "    return sum([x for x in range(1, nMax + 1)]) ** 2\n",
    "\n",
    "def DiffResult(nMax):\n",
    "    return SquareOfSums(nMax) - SumOfSquares(nMax)\n",
    "\n",
    "print(\"Answer: \" + str(DiffResult(maxValue)))"
   ]
  }
 ],
 "metadata": {
  "kernelspec": {
   "display_name": ".venv",
   "language": "python",
   "name": "python3"
  },
  "language_info": {
   "codemirror_mode": {
    "name": "ipython",
    "version": 3
   },
   "file_extension": ".py",
   "mimetype": "text/x-python",
   "name": "python",
   "nbconvert_exporter": "python",
   "pygments_lexer": "ipython3",
   "version": "3.12.3"
  }
 },
 "nbformat": 4,
 "nbformat_minor": 2
}
