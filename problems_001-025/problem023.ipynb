{
 "cells": [
  {
   "cell_type": "markdown",
   "metadata": {},
   "source": [
    "A perfect number is a number for which the sum of its proper divisors is exactly equal to the number. For example, the sum of the proper divisors of $28$ would be $1 + 2 + 4 + 7 + 14 = 28$, which means that $28$ is a perfect number.\n",
    "\n",
    "A number $n$ is called deficient if the sum of its proper divisors is less than $n$ and it is called abundant if this sum exceeds $n$.\n",
    "\n",
    "As $12$ is the smallest abundant number, $1 + 2 + 3 + 4 + 6 = 16$, the smallest number that can be written as the sum of two abundant numbers is $24$. By mathematical analysis, it can be shown that all integers greater than $28123$ can be written as the sum of two abundant numbers. However, this upper limit cannot be reduced any further by analysis even though it is known that the greatest number that cannot be expressed as the sum of two abundant numbers is less than this limit.\n",
    "\n",
    "Find the sum of all the positive integers which cannot be written as the sum of two abundant numbers."
   ]
  },
  {
   "cell_type": "code",
   "execution_count": 2,
   "metadata": {},
   "outputs": [
    {
     "data": {
      "text/plain": [
       "28"
      ]
     },
     "execution_count": 2,
     "metadata": {},
     "output_type": "execute_result"
    }
   ],
   "source": [
    "def sum_of_proper_divisors(n):\n",
    "  divisors = [1]\n",
    "  for i in range(2, int(n**0.5) + 1):\n",
    "    if n % i == 0:\n",
    "      divisors.append(i)\n",
    "      if i != n // i:\n",
    "        divisors.append(n // i)\n",
    "  return sum(divisors)\n",
    "\n",
    "sum_of_proper_divisors(28)"
   ]
  },
  {
   "cell_type": "code",
   "execution_count": 7,
   "metadata": {},
   "outputs": [
    {
     "name": "stdout",
     "output_type": "stream",
     "text": [
      "False\n",
      "True\n",
      "False\n"
     ]
    }
   ],
   "source": [
    "def is_abundant(n):\n",
    "    return sum_of_proper_divisors(n) > n\n",
    "\n",
    "print(is_abundant(11))\n",
    "print(is_abundant(12))\n",
    "print(is_abundant(13))"
   ]
  },
  {
   "cell_type": "code",
   "execution_count": 8,
   "metadata": {},
   "outputs": [
    {
     "name": "stdout",
     "output_type": "stream",
     "text": [
      "[1, 2, 3, 4, 5, 6, 7, 8, 9, 10, 11, 12, 13, 14, 15, 16, 17, 18, 19, 20, 21, 22, 23, 25, 26, 27, 28, 29, 31, 33, 34, 35, 37, 39]\n"
     ]
    }
   ],
   "source": [
    "def find_non_sum_of_two_abundant_numbers(limit):\n",
    "    abundant_numbers = [i for i in range(1, limit) if is_abundant(i)]\n",
    "    can_be_written_as_abundant_sum = [False] * limit\n",
    "\n",
    "    for i in range(len(abundant_numbers)):\n",
    "        for j in range(i, len(abundant_numbers)):\n",
    "            abundant_sum = abundant_numbers[i] + abundant_numbers[j]\n",
    "            if abundant_sum < limit:\n",
    "                can_be_written_as_abundant_sum[abundant_sum] = True\n",
    "            else:\n",
    "                break\n",
    "\n",
    "    non_abundant_sums = [i for i in range(1, limit) if not can_be_written_as_abundant_sum[i]]\n",
    "    return non_abundant_sums\n",
    "\n",
    "print(find_non_sum_of_two_abundant_numbers(40))"
   ]
  },
  {
   "cell_type": "code",
   "execution_count": 9,
   "metadata": {},
   "outputs": [
    {
     "name": "stdout",
     "output_type": "stream",
     "text": [
      "4179871\n"
     ]
    }
   ],
   "source": [
    "# Solution: 4179871\n",
    "print(sum(find_non_sum_of_two_abundant_numbers(28124)))"
   ]
  }
 ],
 "metadata": {
  "kernelspec": {
   "display_name": ".venv",
   "language": "python",
   "name": "python3"
  },
  "language_info": {
   "codemirror_mode": {
    "name": "ipython",
    "version": 3
   },
   "file_extension": ".py",
   "mimetype": "text/x-python",
   "name": "python",
   "nbconvert_exporter": "python",
   "pygments_lexer": "ipython3",
   "version": "3.12.3"
  }
 },
 "nbformat": 4,
 "nbformat_minor": 2
}
