{
 "cells": [
  {
   "cell_type": "markdown",
   "metadata": {},
   "source": [
    "\n",
    "A Pythagorean triplet is a set of three natural numbers, $a \\lt b \\lt c$, for which,\n",
    "$$a^2 + b^2 = c^2.$$\n",
    "For example, $3^2 + 4^2 = 9 + 16 = 25 = 5^2$.\n",
    "\n",
    "There exists exactly one Pythagorean triplet for which $a + b + c = 1000$.\n",
    "\n",
    "Find the product $abc$.\n"
   ]
  },
  {
   "cell_type": "markdown",
   "metadata": {},
   "source": [
    "# Straightforward solution\n",
    "\n",
    "Runs in ~9s"
   ]
  },
  {
   "cell_type": "code",
   "execution_count": 4,
   "metadata": {},
   "outputs": [
    {
     "name": "stdout",
     "output_type": "stream",
     "text": [
      "31875000\n",
      "200 375 425\n"
     ]
    }
   ],
   "source": [
    "def find_pythagorean_triplets(n):\n",
    "    triplets = []\n",
    "    for c in range(1, n):\n",
    "        for b in range(1, c):\n",
    "            for a in range(1, b):\n",
    "                if a + b + c == n and a**2 + b**2 == c**2:\n",
    "                    triplets.append((a, b, c))\n",
    "    return triplets\n",
    "\n",
    "triplets = find_pythagorean_triplets(1000)\n",
    "a, b, c = triplets[0]\n",
    "\n",
    "# Solution: 31875000\n",
    "print(a * b * c)\n",
    "print(a, b, c)"
   ]
  },
  {
   "cell_type": "markdown",
   "metadata": {},
   "source": [
    "# Limiting ranges to scan\n",
    "\n",
    "Runs in ~0s"
   ]
  },
  {
   "cell_type": "code",
   "execution_count": 3,
   "metadata": {},
   "outputs": [
    {
     "name": "stdout",
     "output_type": "stream",
     "text": [
      "Answer: 31875000\n",
      "A, B, C: 200 375 425\n"
     ]
    }
   ],
   "source": [
    "def find_pythagorean_triplet(n):\n",
    "    for a in range(1, n // 3):\n",
    "        for b in range(a, n // 2):\n",
    "            c = n - a - b\n",
    "            if a**2 + b**2 == c**2:\n",
    "                return a, b, c\n",
    "    return None\n",
    "\n",
    "n = 1000\n",
    "triplet = find_pythagorean_triplet(n)\n",
    "if triplet:\n",
    "    a, b, c = triplet\n",
    "    print('Answer: ' + str(a * b * c))\n",
    "    print('A, B, C: {} {} {}'.format(a, b, c))\n",
    "else:\n",
    "    print('No triplet found')"
   ]
  },
  {
   "cell_type": "markdown",
   "metadata": {},
   "source": [
    "# Original:\n",
    "\n",
    "Runs in ~1s"
   ]
  },
  {
   "cell_type": "code",
   "execution_count": 1,
   "metadata": {},
   "outputs": [
    {
     "name": "stdout",
     "output_type": "stream",
     "text": [
      "Answer: 31875000\n",
      "A, B, C: 200 375 425\n"
     ]
    }
   ],
   "source": [
    "found = False\n",
    "\n",
    "# if C is 334 then B must be 333 or less and A must be 332 or less, 334+333+332 = 999\n",
    "# C cannot be larger than 997 and still have valid A/B values to end up under 1000\n",
    "for c in range(334, 997):\n",
    "    if found == False:\n",
    "        # if C must be 334 or larger then the largest B can be is 665 as 665+1+334 = 1000\n",
    "        for b in range(2,665):\n",
    "            if found == False:\n",
    "                # if A is 333 then B must be at least 334 and C at least 335, 333+334+335 = 1002\n",
    "                for a in range(1, 332):\n",
    "                    if found == False and a < b < c:\n",
    "                        if (1000 == a + b + c) and (a ** 2 + b ** 2 == c ** 2):\n",
    "                            found = True\n",
    "                            print('Answer: ' + str(a * b * c))\n",
    "                            print('A, B, C: {} {} {}'.format(a, b, c))\n",
    "                    else:\n",
    "                        break\n",
    "            else:\n",
    "                break\n",
    "    else:\n",
    "        break"
   ]
  }
 ],
 "metadata": {
  "kernelspec": {
   "display_name": ".venv",
   "language": "python",
   "name": "python3"
  },
  "language_info": {
   "codemirror_mode": {
    "name": "ipython",
    "version": 3
   },
   "file_extension": ".py",
   "mimetype": "text/x-python",
   "name": "python",
   "nbconvert_exporter": "python",
   "pygments_lexer": "ipython3",
   "version": "3.12.3"
  }
 },
 "nbformat": 4,
 "nbformat_minor": 2
}
