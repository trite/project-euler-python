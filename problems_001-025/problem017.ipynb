{
 "cells": [
  {
   "cell_type": "markdown",
   "metadata": {},
   "source": [
    "If the numbers $1$ to $5$ are written out in words: one, two, three, four, five, then there are $3 + 3 + 5 + 4 + 4 = 19$ letters used in total.\n",
    "\n",
    "If all the numbers from $1$ to $1000$ (one thousand) inclusive were written out in words, how many letters would be used?\n",
    "\n",
    "  \n",
    "\n",
    "**NOTE:** Do not count spaces or hyphens. For example, $342$ (three hundred and forty-two) contains $23$ letters and $115$ (one hundred and fifteen) contains $20$ letters. The use of \"and\" when writing out numbers is in compliance with British usage."
   ]
  },
  {
   "cell_type": "code",
   "execution_count": 4,
   "metadata": {},
   "outputs": [
    {
     "name": "stdout",
     "output_type": "stream",
     "text": [
      "three hundred and forty-two\n"
     ]
    }
   ],
   "source": [
    "def number_to_words(n):\n",
    "    if n == 0:\n",
    "        return \"zero\"\n",
    "\n",
    "    def one(num):\n",
    "        switcher = {\n",
    "            1: 'one', 2: 'two', 3: 'three', 4: 'four', 5: 'five',\n",
    "            6: 'six', 7: 'seven', 8: 'eight', 9: 'nine'\n",
    "        }\n",
    "        return switcher.get(num)\n",
    "\n",
    "    def two_less_20(num):\n",
    "        switcher = {\n",
    "            10: 'ten', 11: 'eleven', 12: 'twelve', 13: 'thirteen', 14: 'fourteen',\n",
    "            15: 'fifteen', 16: 'sixteen', 17: 'seventeen', 18: 'eighteen', 19: 'nineteen'\n",
    "        }\n",
    "        return switcher.get(num)\n",
    "\n",
    "    def ten(num):\n",
    "        switcher = {\n",
    "            2: 'twenty', 3: 'thirty', 4: 'forty', 5: 'fifty',\n",
    "            6: 'sixty', 7: 'seventy', 8: 'eighty', 9: 'ninety'\n",
    "        }\n",
    "        return switcher.get(num)\n",
    "\n",
    "    def two(num):\n",
    "        if not num:\n",
    "            return ''\n",
    "        elif num < 10:\n",
    "            return one(num)\n",
    "        elif num < 20:\n",
    "            return two_less_20(num)\n",
    "        else:\n",
    "            tenner = num // 10\n",
    "            rest = num % 10\n",
    "            return ten(tenner) + ('-' + one(rest) if rest else '')\n",
    "\n",
    "    def three(num):\n",
    "        hundred = num // 100\n",
    "        rest = num % 100\n",
    "        if hundred and rest:\n",
    "            return one(hundred) + ' hundred and ' + two(rest)\n",
    "        elif not hundred and rest:\n",
    "            return two(rest)\n",
    "        elif hundred and not rest:\n",
    "            return one(hundred) + ' hundred'\n",
    "\n",
    "    billion = n // 1000000000\n",
    "    million = (n - billion * 1000000000) // 1000000\n",
    "    thousand = (n - billion * 1000000000 - million * 1000000) // 1000\n",
    "    remainder = n - billion * 1000000000 - million * 1000000 - thousand * 1000\n",
    "\n",
    "    result = ''\n",
    "    if billion:\n",
    "        result += three(billion) + ' billion'\n",
    "    if million:\n",
    "        result += ' ' if result else ''\n",
    "        result += three(million) + ' million'\n",
    "    if thousand:\n",
    "        result += ' ' if result else ''\n",
    "        result += three(thousand) + ' thousand'\n",
    "    if remainder:\n",
    "        result += ' ' if result else ''\n",
    "        result += three(remainder)\n",
    "    return result\n",
    "\n",
    "print(number_to_words(342))"
   ]
  },
  {
   "cell_type": "code",
   "execution_count": 5,
   "metadata": {},
   "outputs": [
    {
     "name": "stdout",
     "output_type": "stream",
     "text": [
      "23\n"
     ]
    }
   ],
   "source": [
    "def word_len(s):\n",
    "    cleaned_string = s.replace(' ', '').replace('-', '')\n",
    "    return len(cleaned_string)\n",
    "\n",
    "print(word_len(number_to_words(342)))"
   ]
  },
  {
   "cell_type": "code",
   "execution_count": 6,
   "metadata": {},
   "outputs": [
    {
     "data": {
      "text/plain": [
       "21124"
      ]
     },
     "execution_count": 6,
     "metadata": {},
     "output_type": "execute_result"
    }
   ],
   "source": [
    "# Solution: 21124\n",
    "sum([word_len(number_to_words(i)) for i in range(1, 1001)])"
   ]
  },
  {
   "cell_type": "markdown",
   "metadata": {},
   "source": [
    "# Original:"
   ]
  },
  {
   "cell_type": "code",
   "execution_count": null,
   "metadata": {},
   "outputs": [],
   "source": [
    "w1 = {1 : 'one', 2 : 'two', 3 : 'three', 4 : 'four', 5 : 'five', 6 : 'six', 7 : 'seven', 8 : 'eight', 9 : 'nine'}\n",
    "w10 = {0 : 'ten', 1 : 'eleven', 2 : 'twelve', 3 : 'thirteen', 4 : 'fourteen', 5 : 'fifteen', 6 : 'sixteen', 7 : 'seventeen', 8 : 'eighteen', 9 : 'nineteen'}\n",
    "w20 = {2 : 'twenty', 3 : 'thirty', 4 : 'forty', 5 : 'fifty', 6 : 'sixty', 7 : 'seventy', 8 : 'eighty', 9 : 'ninety'}\n",
    "\n",
    "def numStr(input):\n",
    "    strIn = str(input)\n",
    "    result = ''\n",
    "    while (len(strIn) > 0):\n",
    "        if (strIn == '1000'):\n",
    "            result = 'onethousandand'\n",
    "            break\n",
    "        elif (len(strIn) == 1):\n",
    "            if (strIn[0] != '0'):\n",
    "                result += w1[int(strIn[0])]\n",
    "        elif (len(strIn) == 2):\n",
    "            if (strIn[0] != '0'):\n",
    "                if (strIn[0] == '1'):\n",
    "                    result += w10[int(strIn[1])]\n",
    "                    strIn = strIn[1:]\n",
    "                else:\n",
    "                    result += w20[int(strIn[0])]\n",
    "        elif (len(strIn) == 3):\n",
    "            result = w1[int(strIn[0])] + 'hundredand'\n",
    "        else:\n",
    "            return 'ERROR... ' + strIn\n",
    "        strIn = strIn[1:]\n",
    "    if (result[-3:] == 'and'):\n",
    "        result = result[:-3]\n",
    "    print('{} ({}) = {}'.format(input, len(result), result))\n",
    "    return result\n",
    "\n",
    "result = 0\n",
    "for x in range(1, 1001):\n",
    "    result += len(numStr(x))\n",
    "\n",
    "print('Answer: ' + str(result))"
   ]
  }
 ],
 "metadata": {
  "kernelspec": {
   "display_name": ".venv",
   "language": "python",
   "name": "python3"
  },
  "language_info": {
   "codemirror_mode": {
    "name": "ipython",
    "version": 3
   },
   "file_extension": ".py",
   "mimetype": "text/x-python",
   "name": "python",
   "nbconvert_exporter": "python",
   "pygments_lexer": "ipython3",
   "version": "3.12.3"
  }
 },
 "nbformat": 4,
 "nbformat_minor": 2
}
