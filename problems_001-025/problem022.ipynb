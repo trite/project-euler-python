{
 "cells": [
  {
   "cell_type": "markdown",
   "metadata": {},
   "source": [
    "Using [problem022_names.txt](problem022_names.txt), a 46K text file containing over five-thousand first names, begin by sorting it into alphabetical order. Then working out the alphabetical value for each name, multiply this value by its alphabetical position in the list to obtain a name score.\n",
    "\n",
    "For example, when the list is sorted into alphabetical order, COLIN, which is worth $3 + 15 + 12 + 9 + 14 = 53$, is the $938$th name in the list. So, COLIN would obtain a score of $938 \\times 53 = 49714$.\n",
    "\n",
    "What is the total of all the name scores in the file?"
   ]
  },
  {
   "cell_type": "code",
   "execution_count": 2,
   "metadata": {},
   "outputs": [
    {
     "name": "stdout",
     "output_type": "stream",
     "text": [
      "MARY\n",
      "ALONSO\n",
      "5163\n"
     ]
    }
   ],
   "source": [
    "def parse_file_to_list(filename):\n",
    "    with open(filename, 'r') as file:\n",
    "        content = file.read().strip()\n",
    "        # Remove the leading and trailing quotes and split by '\",\"'\n",
    "        strings = content[1:-1].split('\",\"')\n",
    "    return strings\n",
    "\n",
    "lst = parse_file_to_list('problem022_names.txt')\n",
    "print(lst[0])\n",
    "print(lst[-1])\n",
    "print(len(lst))"
   ]
  },
  {
   "cell_type": "code",
   "execution_count": 3,
   "metadata": {},
   "outputs": [
    {
     "name": "stdout",
     "output_type": "stream",
     "text": [
      "53\n"
     ]
    }
   ],
   "source": [
    "def string_to_integer_value(s):\n",
    "    return sum(ord(char) - ord('a') + 1 for char in s.lower())\n",
    "\n",
    "print(string_to_integer_value(\"colin\"))"
   ]
  },
  {
   "cell_type": "code",
   "execution_count": 4,
   "metadata": {},
   "outputs": [
    {
     "name": "stdout",
     "output_type": "stream",
     "text": [
      "871198282\n"
     ]
    }
   ],
   "source": [
    "def calculate_total_value(strings):\n",
    "    # Sort the list of strings alphabetically\n",
    "    sorted_strings = sorted(strings)\n",
    "    \n",
    "    total_value = 0\n",
    "    for index, string in enumerate(sorted_strings, start=1):\n",
    "        string_value = string_to_integer_value(string)\n",
    "        total_value += string_value * index\n",
    "    \n",
    "    return total_value\n",
    "\n",
    "# Solution: 871198282\n",
    "lst = parse_file_to_list('problem022_names.txt')\n",
    "print(calculate_total_value(lst))"
   ]
  }
 ],
 "metadata": {
  "kernelspec": {
   "display_name": ".venv",
   "language": "python",
   "name": "python3"
  },
  "language_info": {
   "codemirror_mode": {
    "name": "ipython",
    "version": 3
   },
   "file_extension": ".py",
   "mimetype": "text/x-python",
   "name": "python",
   "nbconvert_exporter": "python",
   "pygments_lexer": "ipython3",
   "version": "3.12.3"
  }
 },
 "nbformat": 4,
 "nbformat_minor": 2
}
