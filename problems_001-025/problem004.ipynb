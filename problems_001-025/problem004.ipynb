{
 "cells": [
  {
   "cell_type": "markdown",
   "metadata": {},
   "source": [
    "A palindromic number reads the same both ways. The largest palindrome made from the product of two $2$-digit numbers is $9009 = 91 \\times 99$.\n",
    "\n",
    "Find the largest palindrome made from the product of two $3$-digit numbers."
   ]
  },
  {
   "cell_type": "code",
   "execution_count": null,
   "metadata": {},
   "outputs": [
    {
     "name": "stdout",
     "output_type": "stream",
     "text": [
      "906609\n"
     ]
    }
   ],
   "source": [
    "def is_palindrome(x):\n",
    "  return str(x) == str(x)[::-1]\n",
    "\n",
    "current_max = 0\n",
    "\n",
    "for x in range(1000, 100, -1):\n",
    "  for y in range(1000, 100, -1):\n",
    "    if is_palindrome(x * y) and x * y > current_max:\n",
    "      current_max = x * y\n",
    "\n",
    "# Solution: 906609\n",
    "print(current_max)"
   ]
  },
  {
   "cell_type": "markdown",
   "metadata": {},
   "source": [
    "# Original:"
   ]
  },
  {
   "cell_type": "code",
   "execution_count": 1,
   "metadata": {},
   "outputs": [
    {
     "name": "stdout",
     "output_type": "stream",
     "text": [
      "Answer: 906609\n"
     ]
    }
   ],
   "source": [
    "def isPalindrome(inputVal):\n",
    "    reversed = int((str(inputVal)[::-1]))\n",
    "    return reversed == inputVal\n",
    "\n",
    "nMax, nMin, highest = 999, 900, 0\n",
    "for x in range(nMax, nMin, -1):\n",
    "    for y in range(nMax, nMin, -1):\n",
    "        product = x * y\n",
    "        if ((product > highest) and isPalindrome(product)):\n",
    "            highest = product\n",
    "            \n",
    "print(\"Answer: \" + str(highest))"
   ]
  }
 ],
 "metadata": {
  "kernelspec": {
   "display_name": ".venv",
   "language": "python",
   "name": "python3"
  },
  "language_info": {
   "codemirror_mode": {
    "name": "ipython",
    "version": 3
   },
   "file_extension": ".py",
   "mimetype": "text/x-python",
   "name": "python",
   "nbconvert_exporter": "python",
   "pygments_lexer": "ipython3",
   "version": "3.12.3"
  }
 },
 "nbformat": 4,
 "nbformat_minor": 2
}
