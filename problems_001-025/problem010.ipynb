{
 "cells": [
  {
   "cell_type": "markdown",
   "metadata": {},
   "source": [
    "The sum of the primes below $10$ is $2 + 3 + 5 + 7 = 17$.\n",
    "\n",
    "Find the sum of all the primes below two million."
   ]
  },
  {
   "cell_type": "code",
   "execution_count": 4,
   "metadata": {},
   "outputs": [
    {
     "name": "stdout",
     "output_type": "stream",
     "text": [
      "17\n",
      "142913828922\n"
     ]
    }
   ],
   "source": [
    "import numpy as np\n",
    "\n",
    "def sieve_of_eratosthenes(limit):\n",
    "    sieve = np.ones(limit, dtype=bool)\n",
    "    sieve[:2] = False  # 0 and 1 are not primes\n",
    "    for num in range(2, int(limit**0.5) + 1):\n",
    "        if sieve[num]:\n",
    "            sieve[num*num:limit:num] = False\n",
    "    return np.nonzero(sieve)[0]\n",
    "\n",
    "def sum_primes_below(limit):\n",
    "    primes = sieve_of_eratosthenes(limit)\n",
    "    return np.sum(primes)\n",
    "\n",
    "# Example usage:\n",
    "print(sum_primes_below(10))\n",
    "\n",
    "# Solution: 142913828922\n",
    "print(sum_primes_below(2_000_000))"
   ]
  },
  {
   "cell_type": "markdown",
   "metadata": {},
   "source": [
    "Version below wasn't done calculating primes under 2 million after 5 minutes:"
   ]
  },
  {
   "cell_type": "code",
   "execution_count": 3,
   "metadata": {},
   "outputs": [
    {
     "name": "stdout",
     "output_type": "stream",
     "text": [
      "7\n",
      "11\n",
      "13\n",
      "[2, 3, 5, 7]\n",
      "17\n"
     ]
    }
   ],
   "source": [
    "def next_prime(n, primes=[]):\n",
    "  if n < 2:\n",
    "    return 2\n",
    "  if n == 2:\n",
    "    return 3\n",
    "  if n == 3:\n",
    "    return 5\n",
    "  if not primes:\n",
    "    primes = [2, 3]\n",
    "  while True:\n",
    "    n += 2\n",
    "    if all(n % x != 0 for x in filter(lambda y: y <= n**1/2, primes)):\n",
    "      return n\n",
    "    # for x in filter(lambda y: y <= n**1/2, primes):\n",
    "    #   if n % x == 0:\n",
    "    #     return n, primes.append(n)\n",
    "\n",
    "def primes_under(n):\n",
    "  primes = []\n",
    "  while True:\n",
    "    prime = next_prime(primes[-1] if primes else 0, primes)\n",
    "    if prime >= n:\n",
    "      return primes\n",
    "    primes.append(prime)\n",
    "\n",
    "print(next_prime(5))\n",
    "print(next_prime(7))\n",
    "print(next_prime(11))\n",
    "\n",
    "print(primes_under(10))\n",
    "print(sum(primes_under(10)))\n",
    "\n",
    "# Solution: 142913828922\n",
    "# Not done after 5 minutes though:\n",
    "# print(sum(primes_under(2_000_000)))"
   ]
  }
 ],
 "metadata": {
  "kernelspec": {
   "display_name": ".venv",
   "language": "python",
   "name": "python3"
  },
  "language_info": {
   "codemirror_mode": {
    "name": "ipython",
    "version": 3
   },
   "file_extension": ".py",
   "mimetype": "text/x-python",
   "name": "python",
   "nbconvert_exporter": "python",
   "pygments_lexer": "ipython3",
   "version": "3.12.3"
  }
 },
 "nbformat": 4,
 "nbformat_minor": 2
}
