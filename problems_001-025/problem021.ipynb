{
 "cells": [
  {
   "cell_type": "markdown",
   "metadata": {},
   "source": [
    "Let $d(n)$ be defined as the sum of proper divisors of $n$ (numbers less than $n$ which divide evenly into $n$).  \n",
    "If $d(a) = b$ and $d(b) = a$, where $a \\ne b$, then $a$ and $b$ are an amicable pair and each of $a$ and $b$ are called amicable numbers.\n",
    "\n",
    "For example, the proper divisors of $220$ are $1, 2, 4, 5, 10, 11, 20, 22, 44, 55$ and $110$; therefore $d(220) = 284$. The proper divisors of $284$ are $1, 2, 4, 71$ and $142$; so $d(284) = 220$.\n",
    "\n",
    "Evaluate the sum of all the amicable numbers under $10000$."
   ]
  },
  {
   "cell_type": "code",
   "execution_count": null,
   "metadata": {},
   "outputs": [
    {
     "name": "stdout",
     "output_type": "stream",
     "text": [
      "[(220, 284), (1184, 1210), (2620, 2924), (5020, 5564), (6232, 6368)]\n",
      "31626\n"
     ]
    }
   ],
   "source": [
    "def sum_of_proper_divisors(n):\n",
    "    divisors = [1]\n",
    "    for i in range(2, int(n**0.5) + 1):\n",
    "        if n % i == 0:\n",
    "            divisors.append(i)\n",
    "            if i != n // i:\n",
    "                divisors.append(n // i)\n",
    "    return sum(divisors)\n",
    "\n",
    "def find_amicable_pairs(limit):\n",
    "    amicable_pairs = []\n",
    "    for a in range(2, limit):\n",
    "        b = sum_of_proper_divisors(a)\n",
    "        if b > a and b < limit and sum_of_proper_divisors(b) == a:\n",
    "            amicable_pairs.append((a, b))\n",
    "    return amicable_pairs\n",
    "\n",
    "print(find_amicable_pairs(10_000))\n",
    "\n",
    "# Solution: 31626\n",
    "print(sum(sum(pair) for pair in find_amicable_pairs(10_000)))"
   ]
  }
 ],
 "metadata": {
  "kernelspec": {
   "display_name": ".venv",
   "language": "python",
   "name": "python3"
  },
  "language_info": {
   "codemirror_mode": {
    "name": "ipython",
    "version": 3
   },
   "file_extension": ".py",
   "mimetype": "text/x-python",
   "name": "python",
   "nbconvert_exporter": "python",
   "pygments_lexer": "ipython3",
   "version": "3.12.3"
  }
 },
 "nbformat": 4,
 "nbformat_minor": 2
}
