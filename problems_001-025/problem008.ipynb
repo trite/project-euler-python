{
 "cells": [
  {
   "cell_type": "markdown",
   "metadata": {},
   "source": [
    "The four adjacent digits in the $1000$-digit number that have the greatest product are $9 \\times 9 \\times 8 \\times 9 = 5832$.\n",
    "```\n",
    "73167176531330624919225119674426574742355349194934\n",
    "96983520312774506326239578318016984801869478851843\n",
    "85861560789112949495459501737958331952853208805511\n",
    "12540698747158523863050715693290963295227443043557\n",
    "66896648950445244523161731856403098711121722383113\n",
    "62229893423380308135336276614282806444486645238749\n",
    "30358907296290491560440772390713810515859307960866\n",
    "70172427121883998797908792274921901699720888093776\n",
    "65727333001053367881220235421809751254540594752243\n",
    "52584907711670556013604839586446706324415722155397\n",
    "53697817977846174064955149290862569321978468622482\n",
    "83972241375657056057490261407972968652414535100474\n",
    "82166370484403199890008895243450658541227588666881\n",
    "16427171479924442928230863465674813919123162824586\n",
    "17866458359124566529476545682848912883142607690042\n",
    "24219022671055626321111109370544217506941658960408\n",
    "07198403850962455444362981230987879927244284909188\n",
    "84580156166097919133875499200524063689912560717606\n",
    "05886116467109405077541002256983155200055935729725\n",
    "71636269561882670428252483600823257530420752963450\n",
    "```\n",
    "Find the thirteen adjacent digits in the $1000$-digit number that have the greatest product. What is the value of this product?\n"
   ]
  },
  {
   "cell_type": "code",
   "execution_count": 31,
   "metadata": {},
   "outputs": [],
   "source": [
    "digits = \"7316717653133062491922511967442657474235534919493496983520312774506326239578318016984801869478851843858615607891129494954595017379583319528532088055111254069874715852386305071569329096329522744304355766896648950445244523161731856403098711121722383113622298934233803081353362766142828064444866452387493035890729629049156044077239071381051585930796086670172427121883998797908792274921901699720888093776657273330010533678812202354218097512545405947522435258490771167055601360483958644670632441572215539753697817977846174064955149290862569321978468622482839722413756570560574902614079729686524145351004748216637048440319989000889524345065854122758866688116427171479924442928230863465674813919123162824586178664583591245665294765456828489128831426076900422421902267105562632111110937054421750694165896040807198403850962455444362981230987879927244284909188845801561660979191338754992005240636899125607176060588611646710940507754100225698315520005593572972571636269561882670428252483600823257530420752963450\""
   ]
  },
  {
   "cell_type": "code",
   "execution_count": null,
   "metadata": {},
   "outputs": [
    {
     "name": "stdout",
     "output_type": "stream",
     "text": [
      "5832\n",
      "23514624000\n"
     ]
    }
   ],
   "source": [
    "def highest_product_of_sequence(digits, length):\n",
    "    max_product = 0\n",
    "    for i in range(len(digits) - length + 1):\n",
    "        product = 1\n",
    "        for j in range(length):\n",
    "            product *= int(digits[i + j])\n",
    "        if product > max_product:\n",
    "            max_product = product\n",
    "    return max_product\n",
    "\n",
    "print(highest_product_of_sequence(digits, 4))\n",
    "\n",
    "# Solution: 23514624000\n",
    "print(highest_product_of_sequence(digits, 13))"
   ]
  },
  {
   "cell_type": "markdown",
   "metadata": {},
   "source": [
    "### Below I was working on the assumption that the goal was to return lines (horizontal/vertical/diagonal) from the grid of length x.\n",
    "\n",
    "That was not the correct interpretation of the problem, but might as well hang on to the work."
   ]
  },
  {
   "cell_type": "code",
   "execution_count": 17,
   "metadata": {},
   "outputs": [],
   "source": [
    "import numpy as np\n",
    "from numpy.lib.stride_tricks import sliding_window_view\n",
    "\n",
    "def get_all_lines(grid: np.ndarray, length: int) -> list[np.ndarray]:\n",
    "    \"\"\"\n",
    "    Returns all consecutive line sequences of specified length from a 2D grid.\n",
    "    \n",
    "    Args:\n",
    "        grid: 2D NumPy array\n",
    "        length: Required sequence length (minimum 2)\n",
    "    \n",
    "    Returns:\n",
    "        List of 1D arrays containing all valid lines\n",
    "    \"\"\"\n",
    "    if length < 1:\n",
    "        raise ValueError(\"Line length must be ≥1\")\n",
    "    \n",
    "    lines = []\n",
    "    rows, cols = grid.shape\n",
    "    \n",
    "    # Horizontal lines (left to right)\n",
    "    if cols >= length:\n",
    "        h_view = sliding_window_view(grid, (1, length))\n",
    "        lines.extend(h_view.reshape(-1, length))\n",
    "    \n",
    "    # Vertical lines (top to bottom)\n",
    "    if rows >= length:\n",
    "        v_view = sliding_window_view(grid, (length, 1))\n",
    "        lines.extend(v_view.reshape(-1, length))\n",
    "    \n",
    "    # Diagonal lines (both directions)\n",
    "    if rows >= length and cols >= length:\n",
    "        # Main diagonals (top-left to bottom-right)\n",
    "        diag_view = sliding_window_view(grid, (length, length))\n",
    "        main_diag = diag_view.diagonal(axis1=2, axis2=3)\n",
    "        lines.extend(main_diag.reshape(-1, length))\n",
    "        \n",
    "        # Anti-diagonals (top-right to bottom-left)\n",
    "        anti_diag = np.flip(diag_view, axis=3).diagonal(axis1=2, axis2=3)\n",
    "        lines.extend(anti_diag.reshape(-1, length))\n",
    "    \n",
    "    return [line.ravel() for line in lines]"
   ]
  },
  {
   "cell_type": "markdown",
   "metadata": {},
   "source": [
    "Confirming that the results look good when using a 5x5 base grid and line length 3:"
   ]
  },
  {
   "cell_type": "code",
   "execution_count": null,
   "metadata": {},
   "outputs": [
    {
     "name": "stdout",
     "output_type": "stream",
     "text": [
      "[[ 0  1  2  3  4]\n",
      " [ 5  6  7  8  9]\n",
      " [10 11 12 13 14]\n",
      " [15 16 17 18 19]\n",
      " [20 21 22 23 24]]\n",
      "[array([0, 1, 2]),\n",
      " array([1, 2, 3]),\n",
      " array([2, 3, 4]),\n",
      " array([5, 6, 7]),\n",
      " array([6, 7, 8]),\n",
      " array([7, 8, 9]),\n",
      " array([10, 11, 12]),\n",
      " array([11, 12, 13]),\n",
      " array([12, 13, 14]),\n",
      " array([15, 16, 17]),\n",
      " array([16, 17, 18]),\n",
      " array([17, 18, 19]),\n",
      " array([20, 21, 22]),\n",
      " array([21, 22, 23]),\n",
      " array([22, 23, 24]),\n",
      " array([ 0,  5, 10]),\n",
      " array([ 1,  6, 11]),\n",
      " array([ 2,  7, 12]),\n",
      " array([ 3,  8, 13]),\n",
      " array([ 4,  9, 14]),\n",
      " array([ 5, 10, 15]),\n",
      " array([ 6, 11, 16]),\n",
      " array([ 7, 12, 17]),\n",
      " array([ 8, 13, 18]),\n",
      " array([ 9, 14, 19]),\n",
      " array([10, 15, 20]),\n",
      " array([11, 16, 21]),\n",
      " array([12, 17, 22]),\n",
      " array([13, 18, 23]),\n",
      " array([14, 19, 24]),\n",
      " array([ 0,  6, 12]),\n",
      " array([ 1,  7, 13]),\n",
      " array([ 2,  8, 14]),\n",
      " array([ 5, 11, 17]),\n",
      " array([ 6, 12, 18]),\n",
      " array([ 7, 13, 19]),\n",
      " array([10, 16, 22]),\n",
      " array([11, 17, 23]),\n",
      " array([12, 18, 24]),\n",
      " array([ 2,  6, 10]),\n",
      " array([ 3,  7, 11]),\n",
      " array([ 4,  8, 12]),\n",
      " array([ 7, 11, 15]),\n",
      " array([ 8, 12, 16]),\n",
      " array([ 9, 13, 17]),\n",
      " array([12, 16, 20]),\n",
      " array([13, 17, 21]),\n",
      " array([14, 18, 22])]\n"
     ]
    }
   ],
   "source": [
    "from pprint import pprint\n",
    "\n",
    "# Create a 5x5 grid\n",
    "grid = np.arange(25).reshape(5, 5)\n",
    "\n",
    "# Get all lines of length 3\n",
    "lines = get_all_lines(grid, 3)\n",
    "\n",
    "print(grid)\n",
    "\n",
    "# First 5 lines of output (total lines = 40 in 5x5 grid with length=3)\n",
    "pprint(lines)"
   ]
  },
  {
   "cell_type": "code",
   "execution_count": 20,
   "metadata": {},
   "outputs": [],
   "source": [
    "def get_all_products(grid: np.ndarray, length: int) -> list[int]:\n",
    "    \"\"\"\n",
    "    Returns the product of all consecutive line sequences of specified length from a 2D grid.\n",
    "    \n",
    "    Args:\n",
    "        grid: 2D NumPy array\n",
    "        length: Required sequence length (minimum 2)\n",
    "    \n",
    "    Returns:\n",
    "        List of products of all valid lines\n",
    "    \"\"\"\n",
    "    lines = get_all_lines(grid, length)\n",
    "    return [line.prod() for line in lines]"
   ]
  },
  {
   "cell_type": "code",
   "execution_count": 25,
   "metadata": {},
   "outputs": [
    {
     "data": {
      "text/plain": [
       "array([7, 3, 1, 6, 7, 1, 7, 6, 5, 3, 1, 3, 3, 0, 6, 2, 4, 9, 1, 9, 2, 2,\n",
       "       5, 1, 1, 9, 6, 7, 4, 4, 2, 6, 5, 7, 4, 7, 4, 2, 3, 5, 5, 3, 4, 9,\n",
       "       1, 9, 4, 9, 3, 4])"
      ]
     },
     "execution_count": 25,
     "metadata": {},
     "output_type": "execute_result"
    }
   ],
   "source": [
    "import numpy as np\n",
    "\n",
    "grid = np.array([\n",
    "  [7,3,1,6,7,1,7,6,5,3,1,3,3,0,6,2,4,9,1,9,2,2,5,1,1,9,6,7,4,4,2,6,5,7,4,7,4,2,3,5,5,3,4,9,1,9,4,9,3,4],\n",
    "  [9,6,9,8,3,5,2,0,3,1,2,7,7,4,5,0,6,3,2,6,2,3,9,5,7,8,3,1,8,0,1,6,9,8,4,8,0,1,8,6,9,4,7,8,8,5,1,8,4,3],\n",
    "  [8,5,8,6,1,5,6,0,7,8,9,1,1,2,9,4,9,4,9,5,4,5,9,5,0,1,7,3,7,9,5,8,3,3,1,9,5,2,8,5,3,2,0,8,8,0,5,5,1,1],\n",
    "  [1,2,5,4,0,6,9,8,7,4,7,1,5,8,5,2,3,8,6,3,0,5,0,7,1,5,6,9,3,2,9,0,9,6,3,2,9,5,2,2,7,4,4,3,0,4,3,5,5,7],\n",
    "  [6,6,8,9,6,6,4,8,9,5,0,4,4,5,2,4,4,5,2,3,1,6,1,7,3,1,8,5,6,4,0,3,0,9,8,7,1,1,1,2,1,7,2,2,3,8,3,1,1,3],\n",
    "  [6,2,2,2,9,8,9,3,4,2,3,3,8,0,3,0,8,1,3,5,3,3,6,2,7,6,6,1,4,2,8,2,8,0,6,4,4,4,4,8,6,6,4,5,2,3,8,7,4,9],\n",
    "  [3,0,3,5,8,9,0,7,2,9,6,2,9,0,4,9,1,5,6,0,4,4,0,7,7,2,3,9,0,7,1,3,8,1,0,5,1,5,8,5,9,3,0,7,9,6,0,8,6,6],\n",
    "  [7,0,1,7,2,4,2,7,1,2,1,8,8,3,9,9,8,7,9,7,9,0,8,7,9,2,2,7,4,9,2,1,9,0,1,6,9,9,7,2,0,8,8,8,0,9,3,7,7,6],\n",
    "  [6,5,7,2,7,3,3,3,0,0,1,0,5,3,3,6,7,8,8,1,2,2,0,2,3,5,4,2,1,8,0,9,7,5,1,2,5,4,5,4,0,5,9,4,7,5,2,2,4,3],\n",
    "  [5,2,5,8,4,9,0,7,7,1,1,6,7,0,5,5,6,0,1,3,6,0,4,8,3,9,5,8,6,4,4,6,7,0,6,3,2,4,4,1,5,7,2,2,1,5,5,3,9,7],\n",
    "  [5,3,6,9,7,8,1,7,9,7,7,8,4,6,1,7,4,0,6,4,9,5,5,1,4,9,2,9,0,8,6,2,5,6,9,3,2,1,9,7,8,4,6,8,6,2,2,4,8,2],\n",
    "  [8,3,9,7,2,2,4,1,3,7,5,6,5,7,0,5,6,0,5,7,4,9,0,2,6,1,4,0,7,9,7,2,9,6,8,6,5,2,4,1,4,5,3,5,1,0,0,4,7,4],\n",
    "  [8,2,1,6,6,3,7,0,4,8,4,4,0,3,1,9,9,8,9,0,0,0,8,8,9,5,2,4,3,4,5,0,6,5,8,5,4,1,2,2,7,5,8,8,6,6,6,8,8,1],\n",
    "  [1,6,4,2,7,1,7,1,4,7,9,9,2,4,4,4,2,9,2,8,2,3,0,8,6,3,4,6,5,6,7,4,8,1,3,9,1,9,1,2,3,1,6,2,8,2,4,5,8,6],\n",
    "  [1,7,8,6,6,4,5,8,3,5,9,1,2,4,5,6,6,5,2,9,4,7,6,5,4,5,6,8,2,8,4,8,9,1,2,8,8,3,1,4,2,6,0,7,6,9,0,0,4,2],\n",
    "  [2,4,2,1,9,0,2,2,6,7,1,0,5,5,6,2,6,3,2,1,1,1,1,1,0,9,3,7,0,5,4,4,2,1,7,5,0,6,9,4,1,6,5,8,9,6,0,4,0,8],\n",
    "  [0,7,1,9,8,4,0,3,8,5,0,9,6,2,4,5,5,4,4,4,3,6,2,9,8,1,2,3,0,9,8,7,8,7,9,9,2,7,2,4,4,2,8,4,9,0,9,1,8,8],\n",
    "  [8,4,5,8,0,1,5,6,1,6,6,0,9,7,9,1,9,1,3,3,8,7,5,4,9,9,2,0,0,5,2,4,0,6,3,6,8,9,9,1,2,5,6,0,7,1,7,6,0,6],\n",
    "  [0,5,8,8,6,1,1,6,4,6,7,1,0,9,4,0,5,0,7,7,5,4,1,0,0,2,2,5,6,9,8,3,1,5,5,2,0,0,0,5,5,9,3,5,7,2,9,7,2,5],\n",
    "  [7,1,6,3,6,2,6,9,5,6,1,8,8,2,6,7,0,4,2,8,2,5,2,4,8,3,6,0,0,8,2,3,2,5,7,5,3,0,4,2,0,7,5,2,9,6,3,4,5,0]])\n",
    "\n",
    "def get_rows(a):\n",
    "    return [a[i, :] for i in range(a.shape[0])]\n",
    "\n",
    "get_rows(grid)[0]"
   ]
  },
  {
   "cell_type": "code",
   "execution_count": 27,
   "metadata": {},
   "outputs": [
    {
     "data": {
      "text/plain": [
       "np.int64(5832)"
      ]
     },
     "execution_count": 27,
     "metadata": {},
     "output_type": "execute_result"
    }
   ],
   "source": [
    "max(get_all_products(grid, 4))"
   ]
  },
  {
   "cell_type": "code",
   "execution_count": null,
   "metadata": {},
   "outputs": [
    {
     "data": {
      "text/plain": [
       "np.int64(64497254400)"
      ]
     },
     "execution_count": 29,
     "metadata": {},
     "output_type": "execute_result"
    }
   ],
   "source": [
    "# Solution: 23514624000\n",
    "#           64497254400\n",
    "max(get_all_products(grid, 13))"
   ]
  },
  {
   "cell_type": "markdown",
   "metadata": {},
   "source": [
    "# Original:"
   ]
  },
  {
   "cell_type": "code",
   "execution_count": 4,
   "metadata": {},
   "outputs": [
    {
     "name": "stdout",
     "output_type": "stream",
     "text": [
      "Answer: 23514624000\n"
     ]
    }
   ],
   "source": [
    "longNumber = '''\n",
    "73167176531330624919225119674426574742355349194934\n",
    "96983520312774506326239578318016984801869478851843\n",
    "85861560789112949495459501737958331952853208805511\n",
    "12540698747158523863050715693290963295227443043557\n",
    "66896648950445244523161731856403098711121722383113\n",
    "62229893423380308135336276614282806444486645238749\n",
    "30358907296290491560440772390713810515859307960866\n",
    "70172427121883998797908792274921901699720888093776\n",
    "65727333001053367881220235421809751254540594752243\n",
    "52584907711670556013604839586446706324415722155397\n",
    "53697817977846174064955149290862569321978468622482\n",
    "83972241375657056057490261407972968652414535100474\n",
    "82166370484403199890008895243450658541227588666881\n",
    "16427171479924442928230863465674813919123162824586\n",
    "17866458359124566529476545682848912883142607690042\n",
    "24219022671055626321111109370544217506941658960408\n",
    "07198403850962455444362981230987879927244284909188\n",
    "84580156166097919133875499200524063689912560717606\n",
    "05886116467109405077541002256983155200055935729725\n",
    "71636269561882670428252483600823257530420752963450'''\n",
    "longNumber = longNumber.replace('\\n', '')\n",
    "numLen = len(longNumber)\n",
    "start = 0\n",
    "end = 13\n",
    "nMax = 0\n",
    "def getTotal(inV):\n",
    "    result = 1\n",
    "    for x in range(0, len(inV)):\n",
    "        result *= int(inV[x])\n",
    "    return result\n",
    "\n",
    "while end < numLen:\n",
    "    ttl = getTotal(longNumber[start:end])\n",
    "    if (ttl > nMax):\n",
    "        nMax = ttl\n",
    "    start += 1\n",
    "    end += 1\n",
    "\n",
    "print('Answer: ' + str(nMax))"
   ]
  }
 ],
 "metadata": {
  "kernelspec": {
   "display_name": ".venv",
   "language": "python",
   "name": "python3"
  },
  "language_info": {
   "codemirror_mode": {
    "name": "ipython",
    "version": 3
   },
   "file_extension": ".py",
   "mimetype": "text/x-python",
   "name": "python",
   "nbconvert_exporter": "python",
   "pygments_lexer": "ipython3",
   "version": "3.12.3"
  }
 },
 "nbformat": 4,
 "nbformat_minor": 2
}
