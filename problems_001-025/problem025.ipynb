{
 "cells": [
  {
   "cell_type": "markdown",
   "metadata": {},
   "source": [
    "The Fibonacci sequence is defined by the recurrence relation:\n",
    "\n",
    "$F_n = F_{n - 1} + F_{n - 2}$, where $F_1 = 1$ and $F_2 = 1$.\n",
    "\n",
    "Hence the first $12$ terms will be:\n",
    "\n",
    "\\begin{align} F_1 &= 1\\\\ F_2 &= 1\\\\ F_3 &= 2\\\\ F_4 &= 3\\\\ F_5 &= 5\\\\ F_6 &= 8\\\\ F_7 &= 13\\\\ F_8 &= 21\\\\ F_9 &= 34\\\\ F_{10} &= 55\\\\ F_{11} &= 89\\\\ F_{12} &= 144 \\end{align}\n",
    "\n",
    "The $12$ th term, $F_{12}$, is the first term to contain three digits.\n",
    "\n",
    "What is the index of the first term in the Fibonacci sequence to contain $1000$ digits?"
   ]
  },
  {
   "cell_type": "code",
   "execution_count": 1,
   "metadata": {},
   "outputs": [
    {
     "name": "stdout",
     "output_type": "stream",
     "text": [
      "[0, 1, 1, 2, 3, 5, 8, 13, 21, 34]\n"
     ]
    }
   ],
   "source": [
    "def fibonacci(n):\n",
    "    if n == 0:\n",
    "        yield 0\n",
    "    elif n == 1:\n",
    "        yield 1\n",
    "    else:\n",
    "        a, b = 0, 1\n",
    "        yield a\n",
    "        yield b\n",
    "        for _ in range(2, n):\n",
    "            a, b = b, a + b\n",
    "            yield b\n",
    "\n",
    "fib_sequence = [x for x in fibonacci(10)]\n",
    "print(fib_sequence)"
   ]
  },
  {
   "cell_type": "code",
   "execution_count": null,
   "metadata": {},
   "outputs": [],
   "source": [
    "[x for x in fibonacci()]"
   ]
  },
  {
   "cell_type": "code",
   "execution_count": 6,
   "metadata": {},
   "outputs": [
    {
     "name": "stdout",
     "output_type": "stream",
     "text": [
      "12\n",
      "4782\n"
     ]
    }
   ],
   "source": [
    "def find_first_fibonacci_with_digits(digit_count):\n",
    "    i = 0 # index of the current Fibonacci number\n",
    "    a, b = 0, 1\n",
    "    while True:\n",
    "        if len(str(a)) >= digit_count:\n",
    "            return i\n",
    "        i += 1\n",
    "        a, b = b, a + b\n",
    "\n",
    "print(find_first_fibonacci_with_digits(3))\n",
    "\n",
    "# Solution: 4782\n",
    "print(find_first_fibonacci_with_digits(1000))"
   ]
  }
 ],
 "metadata": {
  "kernelspec": {
   "display_name": ".venv",
   "language": "python",
   "name": "python3"
  },
  "language_info": {
   "codemirror_mode": {
    "name": "ipython",
    "version": 3
   },
   "file_extension": ".py",
   "mimetype": "text/x-python",
   "name": "python",
   "nbconvert_exporter": "python",
   "pygments_lexer": "ipython3",
   "version": "3.12.3"
  }
 },
 "nbformat": 4,
 "nbformat_minor": 2
}
