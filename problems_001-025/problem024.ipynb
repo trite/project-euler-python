{
 "cells": [
  {
   "cell_type": "markdown",
   "metadata": {},
   "source": [
    "A permutation is an ordered arrangement of objects. For example, 3124 is one possible permutation of the digits 1, 2, 3 and 4. If all of the permutations are listed numerically or alphabetically, we call it lexicographic order. The lexicographic permutations of 0, 1 and 2 are:\n",
    "\n",
    "012 021 102 120 201 210\n",
    "\n",
    "What is the millionth lexicographic permutation of the digits 0, 1, 2, 3, 4, 5, 6, 7, 8 and 9?"
   ]
  },
  {
   "cell_type": "code",
   "execution_count": null,
   "metadata": {},
   "outputs": [],
   "source": [
    "import itertools\n",
    "\n",
    "def generate_sorted_permutations(digits):\n",
    "    permutations = itertools.permutations(digits)\n",
    "    \n",
    "    # Convert each permutation tuple to an integer\n",
    "    numbers = [int(''.join(map(str, perm))) for perm in permutations]\n",
    "    \n",
    "    # Remove duplicates and sort the numbers\n",
    "    sorted_numbers = sorted(set(numbers))\n",
    "    \n",
    "    return sorted_numbers\n",
    "\n",
    "# Example usage:\n",
    "digits = [1, 2, 3]\n",
    "result = generate_sorted_permutations(digits)\n",
    "print(result)  # Output: [123, 132, 213, 231, 312, 321]"
   ]
  },
  {
   "cell_type": "code",
   "execution_count": 2,
   "metadata": {},
   "outputs": [
    {
     "data": {
      "text/plain": [
       "[(0, 1, 2), (0, 2, 1), (1, 0, 2), (1, 2, 0), (2, 0, 1), (2, 1, 0)]"
      ]
     },
     "execution_count": 2,
     "metadata": {},
     "output_type": "execute_result"
    }
   ],
   "source": [
    "import itertools\n",
    "\n",
    "list(itertools.permutations([0, 1, 2]))"
   ]
  },
  {
   "cell_type": "code",
   "execution_count": 9,
   "metadata": {},
   "outputs": [
    {
     "name": "stdout",
     "output_type": "stream",
     "text": [
      "2783915460\n"
     ]
    }
   ],
   "source": [
    "import itertools\n",
    "\n",
    "permutations = itertools.permutations(range(0, 10))\n",
    "\n",
    "index = 999_999\n",
    "\n",
    "specific_permutation = next(itertools.islice(permutations, index, index + 1))\n",
    "\n",
    "print(''.join(map(str, specific_permutation)))"
   ]
  },
  {
   "cell_type": "code",
   "execution_count": 8,
   "metadata": {},
   "outputs": [
    {
     "name": "stdout",
     "output_type": "stream",
     "text": [
      "(2, 7, 8, 3, 9, 1, 5, 4, 6, 0)\n"
     ]
    }
   ],
   "source": [
    "\n",
    "import itertools\n",
    "\n",
    "def get_permutation_at_index(digits, index):\n",
    "    # Create the permutations iterator\n",
    "    permutations = itertools.permutations(digits)\n",
    "    \n",
    "    # Use islice to extract the specific element at the given index\n",
    "    specific_permutation = next(itertools.islice(permutations, index, index + 1))\n",
    "    \n",
    "    return specific_permutation\n",
    "\n",
    "# Example usage:\n",
    "digits = range(0, 10)\n",
    "index = 1000000 - 1  # 0-based index\n",
    "result = get_permutation_at_index(digits, index)\n",
    "print(result)  # Output: The 1,000,000th permutation of the digits 1 to 9"
   ]
  }
 ],
 "metadata": {
  "kernelspec": {
   "display_name": ".venv",
   "language": "python",
   "name": "python3"
  },
  "language_info": {
   "codemirror_mode": {
    "name": "ipython",
    "version": 3
   },
   "file_extension": ".py",
   "mimetype": "text/x-python",
   "name": "python",
   "nbconvert_exporter": "python",
   "pygments_lexer": "ipython3",
   "version": "3.12.3"
  }
 },
 "nbformat": 4,
 "nbformat_minor": 2
}
