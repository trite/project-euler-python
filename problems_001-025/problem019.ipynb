{
 "cells": [
  {
   "cell_type": "markdown",
   "metadata": {},
   "source": [
    "You are given the following information, but you may prefer to do some research for yourself.\n",
    "\n",
    "*   1 Jan 1900 was a Monday.\n",
    "*   Thirty days has September,  \n",
    "    April, June and November.  \n",
    "    All the rest have thirty-one,  \n",
    "    Saving February alone,  \n",
    "    Which has twenty-eight, rain or shine.  \n",
    "    And on leap years, twenty-nine.\n",
    "*   A leap year occurs on any year evenly divisible by 4, but not on a century unless it is divisible by 400.\n",
    "\n",
    "How many Sundays fell on the first of the month during the twentieth century (1 Jan 1901 to 31 Dec 2000)?"
   ]
  },
  {
   "cell_type": "code",
   "execution_count": 1,
   "metadata": {},
   "outputs": [
    {
     "name": "stdout",
     "output_type": "stream",
     "text": [
      "171\n"
     ]
    }
   ],
   "source": [
    "from datetime import datetime, timedelta\n",
    "\n",
    "def count_sundays_on_first(start_date, end_date):\n",
    "    count = 0\n",
    "    current_date = start_date\n",
    "\n",
    "    while current_date <= end_date:\n",
    "        if current_date.day == 1 and current_date.weekday() == 6:  # 6 corresponds to Sunday\n",
    "            count += 1\n",
    "        # Move to the first day of the next month\n",
    "        next_month = current_date.replace(day=28) + timedelta(days=4)\n",
    "        current_date = next_month.replace(day=1)\n",
    "\n",
    "    return count\n",
    "\n",
    "# Solution: 171\n",
    "start_date = datetime(1901, 1, 1)\n",
    "end_date = datetime(2000, 12, 31)\n",
    "print(count_sundays_on_first(start_date, end_date))"
   ]
  }
 ],
 "metadata": {
  "kernelspec": {
   "display_name": ".venv",
   "language": "python",
   "name": "python3"
  },
  "language_info": {
   "codemirror_mode": {
    "name": "ipython",
    "version": 3
   },
   "file_extension": ".py",
   "mimetype": "text/x-python",
   "name": "python",
   "nbconvert_exporter": "python",
   "pygments_lexer": "ipython3",
   "version": "3.12.3"
  }
 },
 "nbformat": 4,
 "nbformat_minor": 2
}
