{
 "cells": [
  {
   "cell_type": "markdown",
   "metadata": {},
   "source": [
    "![](problem011.png)"
   ]
  },
  {
   "cell_type": "code",
   "execution_count": null,
   "metadata": {},
   "outputs": [],
   "source": [
    "import numpy as np\n",
    "from numpy.lib.stride_tricks import sliding_window_view\n",
    "\n",
    "def get_all_lines(grid: np.ndarray, length: int) -> list[np.ndarray]:\n",
    "    \"\"\"\n",
    "    Returns all consecutive line sequences of specified length from a 2D grid.\n",
    "    \n",
    "    Args:\n",
    "        grid: 2D NumPy array\n",
    "        length: Required sequence length (minimum 2)\n",
    "    \n",
    "    Returns:\n",
    "        List of 1D arrays containing all valid lines\n",
    "    \"\"\"\n",
    "    if length < 1:\n",
    "        raise ValueError(\"Line length must be ≥1\")\n",
    "    \n",
    "    lines = []\n",
    "    rows, cols = grid.shape\n",
    "    \n",
    "    # Horizontal lines (left to right)\n",
    "    if cols >= length:\n",
    "        h_view = sliding_window_view(grid, (1, length))\n",
    "        lines.extend(h_view.reshape(-1, length))\n",
    "    \n",
    "    # Vertical lines (top to bottom)\n",
    "    if rows >= length:\n",
    "        v_view = sliding_window_view(grid, (length, 1))\n",
    "        lines.extend(v_view.reshape(-1, length))\n",
    "    \n",
    "    # Diagonal lines (both directions)\n",
    "    if rows >= length and cols >= length:\n",
    "        # Main diagonals (top-left to bottom-right)\n",
    "        diag_view = sliding_window_view(grid, (length, length))\n",
    "        main_diag = diag_view.diagonal(axis1=2, axis2=3)\n",
    "        lines.extend(main_diag.reshape(-1, length))\n",
    "        \n",
    "        # Anti-diagonals (top-right to bottom-left)\n",
    "        anti_diag = np.flip(diag_view, axis=3).diagonal(axis1=2, axis2=3)\n",
    "        lines.extend(anti_diag.reshape(-1, length))\n",
    "    \n",
    "    return [line.ravel() for line in lines]"
   ]
  },
  {
   "cell_type": "code",
   "execution_count": 8,
   "metadata": {},
   "outputs": [
    {
     "data": {
      "text/plain": [
       "[array([ 8,  2, 22, 97]),\n",
       " array([ 2, 22, 97, 38]),\n",
       " array([22, 97, 38, 15]),\n",
       " array([97, 38, 15,  0])]"
      ]
     },
     "execution_count": 8,
     "metadata": {},
     "output_type": "execute_result"
    }
   ],
   "source": [
    "grid = np.array([\n",
    "  [ 8, 2, 22, 97, 38, 15, 0, 40, 0, 75, 4, 5, 7, 78, 52, 12, 50, 77, 91, 8 ],\n",
    "  [ 49, 49, 99, 40, 17, 81, 18, 57, 60, 87, 17, 40, 98, 43, 69, 48, 4, 56, 62, 0 ],\n",
    "  [ 81, 49, 31, 73, 55, 79, 14, 29, 93, 71, 40, 67, 53, 88, 30, 3, 49, 13, 36, 65 ],\n",
    "  [ 52, 70, 95, 23, 4, 60, 11, 42, 69, 24, 68, 56, 1, 32, 56, 71, 37, 2, 36, 91 ],\n",
    "  [ 22, 31, 16, 71, 51, 67, 63, 89, 41, 92, 36, 54, 22, 40, 40, 28, 66, 33, 13, 80 ],\n",
    "  [ 24, 47, 32, 60, 99, 3, 45, 2, 44, 75, 33, 53, 78, 36, 84, 20, 35, 17, 12, 50 ],\n",
    "  [ 32, 98, 81, 28, 64, 23, 67, 10, 26, 38, 40, 67, 59, 54, 70, 66, 18, 38, 64, 70 ],\n",
    "  [ 67, 26, 20, 68, 2, 62, 12, 20, 95, 63, 94, 39, 63, 8, 40, 91, 66, 49, 94, 21 ],\n",
    "  [ 24, 55, 58, 5, 66, 73, 99, 26, 97, 17, 78, 78, 96, 83, 14, 88, 34, 89, 63, 72 ],\n",
    "  [ 21, 36, 23, 9, 75, 0, 76, 44, 20, 45, 35, 14, 0, 61, 33, 97, 34, 31, 33, 95 ],\n",
    "  [ 78, 17, 53, 28, 22, 75, 31, 67, 15, 94, 3, 80, 4, 62, 16, 14, 9, 53, 56, 92 ],\n",
    "  [ 16, 39, 5, 42, 96, 35, 31, 47, 55, 58, 88, 24, 0, 17, 54, 24, 36, 29, 85, 57 ],\n",
    "  [ 86, 56, 0, 48, 35, 71, 89, 7, 5, 44, 44, 37, 44, 60, 21, 58, 51, 54, 17, 58 ],\n",
    "  [ 19, 80, 81, 68, 5, 94, 47, 69, 28, 73, 92, 13, 86, 52, 17, 77, 4, 89, 55, 40 ],\n",
    "  [ 4, 52, 8, 83, 97, 35, 99, 16, 7, 97, 57, 32, 16, 26, 26, 79, 33, 27, 98, 66 ],\n",
    "  [ 88, 36, 68, 87, 57, 62, 20, 72, 3, 46, 33, 67, 46, 55, 12, 32, 63, 93, 53, 69 ],\n",
    "  [ 4, 42, 16, 73, 38, 25, 39, 11, 24, 94, 72, 18, 8, 46, 29, 32, 40, 62, 76, 36 ],\n",
    "  [ 20, 69, 36, 41, 72, 30, 23, 88, 34, 62, 99, 69, 82, 67, 59, 85, 74, 4, 36, 16 ],\n",
    "  [ 20, 73, 35, 29, 78, 31, 90, 1, 74, 31, 49, 71, 48, 86, 81, 16, 23, 57, 5, 54 ],\n",
    "  [ 1, 70, 54, 71, 83, 51, 54, 69, 16, 92, 33, 48, 61, 43, 52, 1, 89, 19, 67, 48 ]\n",
    "])\n",
    "\n",
    "get_all_lines(grid, 4)[0:4]"
   ]
  },
  {
   "cell_type": "code",
   "execution_count": 11,
   "metadata": {},
   "outputs": [
    {
     "data": {
      "text/plain": [
       "70600674"
      ]
     },
     "execution_count": 11,
     "metadata": {},
     "output_type": "execute_result"
    }
   ],
   "source": [
    "def product_of_lines(lines):\n",
    "    return [np.prod(line) for line in lines]\n",
    "\n",
    "# Solution: 70600674\n",
    "int(max(product_of_lines(get_all_lines(grid, 4))))"
   ]
  },
  {
   "cell_type": "markdown",
   "metadata": {},
   "source": [
    "For fun: using pipes in an attempt to make it more readable"
   ]
  },
  {
   "cell_type": "code",
   "execution_count": 14,
   "metadata": {},
   "outputs": [
    {
     "data": {
      "text/plain": [
       "70600674"
      ]
     },
     "execution_count": 14,
     "metadata": {},
     "output_type": "execute_result"
    }
   ],
   "source": [
    "class Pipe:\n",
    "    def __init__(self, value):\n",
    "        self.value = value\n",
    "\n",
    "    def __or__(self, func):\n",
    "        self.value = func(self.value)\n",
    "        return self\n",
    "\n",
    "    def __call__(self):\n",
    "        return self.value\n",
    "\n",
    "res_thunk = Pipe(get_all_lines(grid, 4)) | product_of_lines | max | int\n",
    "res_thunk()"
   ]
  }
 ],
 "metadata": {
  "kernelspec": {
   "display_name": ".venv",
   "language": "python",
   "name": "python3"
  },
  "language_info": {
   "codemirror_mode": {
    "name": "ipython",
    "version": 3
   },
   "file_extension": ".py",
   "mimetype": "text/x-python",
   "name": "python",
   "nbconvert_exporter": "python",
   "pygments_lexer": "ipython3",
   "version": "3.12.3"
  }
 },
 "nbformat": 4,
 "nbformat_minor": 2
}
