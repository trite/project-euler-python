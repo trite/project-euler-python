{
 "cells": [
  {
   "cell_type": "markdown",
   "metadata": {},
   "source": [
    "$2520$ is the smallest number that can be divided by each of the numbers from $1$ to $10$ without any remainder.\n",
    "\n",
    "What is the smallest positive number that is evenly divisible (divisible with no remainder) by all of the numbers from $1$ to $20$?"
   ]
  },
  {
   "cell_type": "code",
   "execution_count": null,
   "metadata": {},
   "outputs": [
    {
     "name": "stdout",
     "output_type": "stream",
     "text": [
      "232792560\n"
     ]
    }
   ],
   "source": [
    "def divisible_by_all(value, divisors):\n",
    "  for divisor in divisors:\n",
    "    if value % divisor != 0:\n",
    "      return False\n",
    "  return True\n",
    "\n",
    "value = 20*19\n",
    "while True:\n",
    "  if divisible_by_all(value, range(1, 21)):\n",
    "    print(value)\n",
    "    break\n",
    "  value += 20*19\n",
    "\n",
    "# Solution: 232792560\n"
   ]
  },
  {
   "cell_type": "code",
   "execution_count": 7,
   "metadata": {},
   "outputs": [
    {
     "name": "stdout",
     "output_type": "stream",
     "text": [
      "0\n"
     ]
    }
   ],
   "source": [
    "def divisible_by_all_values_under_x(x, value):\n",
    "    for i in range(1, x + 1):\n",
    "        if value % i != 0:\n",
    "            return False\n",
    "    return True\n",
    "\n",
    "limit = 20\n",
    "counter = 20\n",
    "current = 20\n",
    "\n",
    "while True:\n",
    "    if divisible_by_all_values_under_x(limit, current):\n",
    "        print(current)\n",
    "        break\n",
    "    counter -= 1\n",
    "    current = limit * counter"
   ]
  },
  {
   "cell_type": "markdown",
   "metadata": {},
   "source": [
    "# Original:"
   ]
  },
  {
   "cell_type": "code",
   "execution_count": 1,
   "metadata": {},
   "outputs": [
    {
     "name": "stdout",
     "output_type": "stream",
     "text": [
      "Answer: 232792560\n"
     ]
    }
   ],
   "source": [
    "nMax = 20\n",
    "nSec = nMax - 1\n",
    "nStep = nMax * nSec\n",
    "current = nStep\n",
    "\n",
    "def isMultiple(testValue, fMax):\n",
    "    for x in range(fMax, 2, -1):\n",
    "        if testValue % x != 0:\n",
    "            return False\n",
    "    return True\n",
    "\n",
    "while(not(isMultiple(current, nMax))):\n",
    "    current += nStep\n",
    "\n",
    "print(\"Answer: \" + str(current))"
   ]
  }
 ],
 "metadata": {
  "kernelspec": {
   "display_name": ".venv",
   "language": "python",
   "name": "python3"
  },
  "language_info": {
   "codemirror_mode": {
    "name": "ipython",
    "version": 3
   },
   "file_extension": ".py",
   "mimetype": "text/x-python",
   "name": "python",
   "nbconvert_exporter": "python",
   "pygments_lexer": "ipython3",
   "version": "3.12.3"
  }
 },
 "nbformat": 4,
 "nbformat_minor": 2
}
