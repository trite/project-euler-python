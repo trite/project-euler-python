{
 "cells": [
  {
   "cell_type": "markdown",
   "metadata": {},
   "source": [
    "Take the number $192$ and multiply it by each of $1$, $2$, and $3$:\n",
    "\n",
    "\\begin{align} 192 \\times 1 &= 192\\\\ 192 \\times 2 &= 384\\\\ 192 \\times 3 &= 576 \\end{align}\n",
    "\n",
    "By concatenating each product we get the $1$ to $9$ pandigital, $192384576$. We will call $192384576$ the concatenated product of $192$ and $(1,2,3)$.\n",
    "\n",
    "The same can be achieved by starting with $9$ and multiplying by $1$, $2$, $3$, $4$, and $5$, giving the pandigital, $918273645$, which is the concatenated product of $9$ and $(1,2,3,4,5)$.\n",
    "\n",
    "What is the largest $1$ to $9$ pandigital $9$-digit number that can be formed as the concatenated product of an integer with $(1,2, \\dots, n)$ where $n \\gt 1$?"
   ]
  },
  {
   "cell_type": "markdown",
   "metadata": {},
   "source": [
    "# Solution\n",
    "Testing for valid numbers should be pretty easy, but will need a limit for when to stop testing. Initial thought is that the first value that has a concatenated product with (1,2) of greater than 9 total digits represents that limit.\n",
    "\n",
    "With that approach in mind, here are the rough steps:\n",
    "* Create a function to test if a value is 1-9 pandigital\n",
    "* Create a function that tests if a value is \"concatenated-product-pandigital\"\n",
    "  - Start with range(1,i) with i = 2 for the concatenated product, if less than 9 digits increase i until it is >= 9 digits\n",
    "  - If greater than 9 digits when i = 2 then we're done\n",
    "  - If greater than 9 digits when i > 2 then move to the next value\n",
    "* Loop through and test values until we reach our break condition, keeping track of the greatest value that matches and returning that value on break"
   ]
  },
  {
   "cell_type": "code",
   "execution_count": 1,
   "metadata": {},
   "outputs": [
    {
     "name": "stdout",
     "output_type": "stream",
     "text": [
      "True\n",
      "False\n",
      "False\n",
      "True\n"
     ]
    }
   ],
   "source": [
    "# Technically just testing for 1-9 pandigitalism\n",
    "def is_pandigital(n):\n",
    "    return sorted(str(n)) == list(\"123456789\")\n",
    "\n",
    "print(is_pandigital(123456789)) # true\n",
    "print(is_pandigital(12345678))\n",
    "print(is_pandigital(1234567890))\n",
    "print(is_pandigital(246813579)) # true"
   ]
  },
  {
   "cell_type": "code",
   "execution_count": 12,
   "metadata": {},
   "outputs": [],
   "source": [
    "# Python equivalent to the following variant type:\n",
    "# type ResultType =\n",
    "#   | Done\n",
    "#   | Invalid\n",
    "#   | Valid(int)\n",
    "\n",
    "from dataclasses import dataclass\n",
    "\n",
    "class ResultType:\n",
    "  pass\n",
    "\n",
    "@dataclass\n",
    "class Done(ResultType):\n",
    "  input: int\n",
    "  result: int\n",
    "\n",
    "@dataclass\n",
    "class Invalid(ResultType):\n",
    "  pass\n",
    "\n",
    "@dataclass\n",
    "class Valid(ResultType):\n",
    "  result: int"
   ]
  },
  {
   "cell_type": "code",
   "execution_count": 15,
   "metadata": {},
   "outputs": [
    {
     "name": "stdout",
     "output_type": "stream",
     "text": [
      "Valid(input=192, result=192384576)\n",
      "Valid(input=9, result=918273645)\n",
      "Invalid()\n",
      "Done(input=555555, result=5555551111110)\n"
     ]
    }
   ],
   "source": [
    "def concatenated_product(n, i):\n",
    "    return ''.join(str(n * j) for j in range(1, i + 1))\n",
    "\n",
    "def test_concatenated_product_pandigital(n):\n",
    "    i = 2\n",
    "    while True:\n",
    "        product = concatenated_product(n, i)\n",
    "        length = len(product)\n",
    "        \n",
    "        if length < 9:\n",
    "            i += 1\n",
    "        elif length > 9 and i == 2:\n",
    "            return Done(n, int(product))\n",
    "        elif length == 9 and is_pandigital(product):\n",
    "            return Valid(n, int(product))\n",
    "        else:\n",
    "            return Invalid()\n",
    "\n",
    "print(test_concatenated_product_pandigital(192))    # valid\n",
    "print(test_concatenated_product_pandigital(9))      # valid\n",
    "print(test_concatenated_product_pandigital(123))    # invalid\n",
    "print(test_concatenated_product_pandigital(555555)) # done"
   ]
  },
  {
   "cell_type": "code",
   "execution_count": 25,
   "metadata": {},
   "outputs": [
    {
     "name": "stdout",
     "output_type": "stream",
     "text": [
      "Done:  10000 1000020000\n",
      "Valid(input=9327, result=932718654)\n"
     ]
    }
   ],
   "source": [
    "# Accumulate valid values and break on Done\n",
    "valid_values = []\n",
    "for n in range(1, 1_000_000):\n",
    "    result = test_concatenated_product_pandigital(n)\n",
    "    match result:\n",
    "        case Done(n, res):\n",
    "            print('Done: ', n, res)\n",
    "            break\n",
    "        case Invalid():\n",
    "            pass\n",
    "        case Valid(n, result):\n",
    "            valid_values.append(Valid(n, result))\n",
    "\n",
    "# from pprint import pprint\n",
    "# valid_values.sort(key=lambda x: x.result)\n",
    "# pprint(valid_values)\n",
    "\n",
    "# Answer: 932718654\n",
    "print(max(valid_values, key=lambda x: x.result))"
   ]
  }
 ],
 "metadata": {
  "kernelspec": {
   "display_name": ".venv",
   "language": "python",
   "name": "python3"
  },
  "language_info": {
   "codemirror_mode": {
    "name": "ipython",
    "version": 3
   },
   "file_extension": ".py",
   "mimetype": "text/x-python",
   "name": "python",
   "nbconvert_exporter": "python",
   "pygments_lexer": "ipython3",
   "version": "3.12.3"
  }
 },
 "nbformat": 4,
 "nbformat_minor": 2
}
