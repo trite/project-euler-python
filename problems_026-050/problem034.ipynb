{
 "cells": [
  {
   "cell_type": "markdown",
   "metadata": {},
   "source": [
    "$145$ is a curious number, as $1! + 4! + 5! = 1 + 24 + 120 = 145$.\n",
    "\n",
    "Find the sum of all numbers which are equal to the sum of the factorial of their digits.\n",
    "\n",
    "Note: As $1! = 1$ and $2! = 2$ are not sums they are not included."
   ]
  },
  {
   "cell_type": "markdown",
   "metadata": {},
   "source": [
    "# Solution\n",
    "There is probably some upper limit with the base numbers used where this stops being viable. Might be good to try and figure out what that limit is and then potentially test all combinations under it."
   ]
  },
  {
   "cell_type": "code",
   "execution_count": 3,
   "metadata": {},
   "outputs": [
    {
     "name": "stdout",
     "output_type": "stream",
     "text": [
      "1\n",
      "24\n",
      "120\n"
     ]
    }
   ],
   "source": [
    "from functools import reduce\n",
    "\n",
    "def factorial(x):\n",
    "  return reduce(lambda x, y: x * y, range(1, x + 1))\n",
    "\n",
    "print(factorial(1))\n",
    "print(factorial(4))\n",
    "print(factorial(5))"
   ]
  },
  {
   "cell_type": "code",
   "execution_count": 5,
   "metadata": {},
   "outputs": [
    {
     "name": "stdout",
     "output_type": "stream",
     "text": [
      "145\n",
      "1088640\n"
     ]
    }
   ],
   "source": [
    "f = factorial\n",
    "\n",
    "print(f(1) + f(4) + f(5))\n",
    "print(f(9) + f(9) + f(9))"
   ]
  },
  {
   "cell_type": "code",
   "execution_count": 6,
   "metadata": {},
   "outputs": [
    {
     "name": "stdout",
     "output_type": "stream",
     "text": [
      "1 1\n",
      "2 2\n",
      "3 6\n",
      "4 24\n",
      "5 120\n",
      "6 720\n",
      "7 5040\n",
      "8 40320\n",
      "9 362880\n"
     ]
    }
   ],
   "source": [
    "for i in range(1, 10):\n",
    "  print(i, f(i))"
   ]
  },
  {
   "cell_type": "markdown",
   "metadata": {},
   "source": [
    "Mostly just guessing here, but based on the table above it seems like this must not scale well after about 5 digits, and the first digit probably can't go beyond 6 or 7. Start with a limit of 7000 and modify as necessary, test everything up to that limit.\n",
    "\n",
    "Also apparently factorial exists already in math, go figure."
   ]
  },
  {
   "cell_type": "code",
   "execution_count": 10,
   "metadata": {},
   "outputs": [
    {
     "name": "stdout",
     "output_type": "stream",
     "text": [
      "[145, 40585]\n",
      "40730\n"
     ]
    }
   ],
   "source": [
    "from math import factorial\n",
    "\n",
    "def sum_of_digit_factorials(n):\n",
    "    return sum(factorial(int(digit)) for digit in str(n))\n",
    "\n",
    "def find_numbers_with_digit_factorials(limit):\n",
    "    # Precompute the factorial of digits 0-9\n",
    "    digit_factorials = [factorial(i) for i in range(10)]\n",
    "    \n",
    "    result = []\n",
    "    for num in range(10, limit):\n",
    "        if num == sum(digit_factorials[int(digit)] for digit in str(num)):\n",
    "            result.append(num)\n",
    "    \n",
    "    return result\n",
    "\n",
    "res = find_numbers_with_digit_factorials(70000)\n",
    "print(res)\n",
    "\n",
    "# Answer: 40730\n",
    "print(sum(res))"
   ]
  }
 ],
 "metadata": {
  "kernelspec": {
   "display_name": ".venv",
   "language": "python",
   "name": "python3"
  },
  "language_info": {
   "codemirror_mode": {
    "name": "ipython",
    "version": 3
   },
   "file_extension": ".py",
   "mimetype": "text/x-python",
   "name": "python",
   "nbconvert_exporter": "python",
   "pygments_lexer": "ipython3",
   "version": "3.12.3"
  }
 },
 "nbformat": 4,
 "nbformat_minor": 2
}
