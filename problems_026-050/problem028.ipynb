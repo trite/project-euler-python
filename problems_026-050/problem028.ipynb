{
 "cells": [
  {
   "cell_type": "markdown",
   "metadata": {},
   "source": [
    "![](problem028.png)"
   ]
  },
  {
   "cell_type": "code",
   "execution_count": null,
   "metadata": {},
   "outputs": [
    {
     "name": "stdout",
     "output_type": "stream",
     "text": [
      "1 2 1\n",
      "3 2 2\n",
      "5 2 3\n",
      "7 2 4\n",
      "9 4 1\n",
      "13 4 2\n",
      "17 4 3\n",
      "21 4 4\n",
      "25 6 1\n",
      "[1, 3, 5, 7, 9, 13, 17, 21, 25]\n"
     ]
    }
   ],
   "source": [
    "def gen_diagonals(n):\n",
    "  x = 1\n",
    "  gap = 2\n",
    "  corner = 1\n",
    "  while x <= n*n:\n",
    "    # print(x, gap, corner)\n",
    "    yield x\n",
    "    x += gap\n",
    "    corner += 1\n",
    "    if corner > 4:\n",
    "      gap += 2\n",
    "      corner = 1\n",
    "\n",
    "print(list(gen_diagonals(5)))\n",
    "print(list(gen_diagonals(1001)))\n",
    "print(sum(gen_diagonals(1001)))"
   ]
  }
 ],
 "metadata": {
  "kernelspec": {
   "display_name": ".venv",
   "language": "python",
   "name": "python3"
  },
  "language_info": {
   "codemirror_mode": {
    "name": "ipython",
    "version": 3
   },
   "file_extension": ".py",
   "mimetype": "text/x-python",
   "name": "python",
   "nbconvert_exporter": "python",
   "pygments_lexer": "ipython3",
   "version": "3.10.12"
  }
 },
 "nbformat": 4,
 "nbformat_minor": 2
}
