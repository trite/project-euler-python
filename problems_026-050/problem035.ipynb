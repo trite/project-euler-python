{
 "cells": [
  {
   "cell_type": "markdown",
   "metadata": {},
   "source": [
    "The number, $197$, is called a circular prime because all rotations of the digits: $197$, $971$, and $719$, are themselves prime.\n",
    "\n",
    "There are thirteen such primes below $100$: $2, 3, 5, 7, 11, 13, 17, 31, 37, 71, 73, 79$, and $97$.\n",
    "\n",
    "How many circular primes are there below one million?"
   ]
  },
  {
   "cell_type": "markdown",
   "metadata": {},
   "source": [
    "# Solution\n",
    "* Generate set of all primes below 1 million (using Sieve of Eratosthenes)\n",
    "* Create a function that can take an input number and perform digit rotations, returning the set of all possible rotations\n",
    "* Create a set of the valid rotated numbers by looping through all primes and testing all rotations, then count that set's length to get the answer\n",
    "\n",
    "There should be a few ways to reduce how many things we check, but with just under 80k primes to test (primes below 1 million) it should be fine to just test them all for now."
   ]
  },
  {
   "cell_type": "code",
   "execution_count": 2,
   "metadata": {},
   "outputs": [
    {
     "name": "stdout",
     "output_type": "stream",
     "text": [
      "True\n",
      "False\n",
      "False\n",
      "True\n",
      "78498\n"
     ]
    }
   ],
   "source": [
    "# Originally from p27\n",
    "class PrimeChecker:\n",
    "    def __init__(self):\n",
    "        starting_limit = 1_000_000\n",
    "        self.primes = set()\n",
    "        self.max_checked = starting_limit\n",
    "        self._sieve_up_to(starting_limit)\n",
    "\n",
    "    def _sieve_up_to(self, limit):\n",
    "        sieve = [True] * (limit + 1)\n",
    "        sieve[0] = sieve[1] = False\n",
    "        for num in range(2, int(limit**0.5) + 1):\n",
    "            if sieve[num]:\n",
    "                for multiple in range(num * num, limit + 1, num):\n",
    "                    sieve[multiple] = False\n",
    "        self.primes.update(num for num, is_prime in enumerate(sieve) if is_prime)\n",
    "        self.max_checked = limit\n",
    "\n",
    "    def is_prime(self, n):\n",
    "        if n <= self.max_checked:\n",
    "            return n in self.primes\n",
    "        else:\n",
    "            self._sieve_up_to(n)\n",
    "            return n in self.primes\n",
    "\n",
    "    def get_primes(self):\n",
    "        return self.primes\n",
    "\n",
    "# Testing\n",
    "prime_checker = PrimeChecker()\n",
    "print(prime_checker.is_prime(29))\n",
    "print(prime_checker.is_prime(30))\n",
    "print(prime_checker.is_prime(100))\n",
    "print(prime_checker.is_prime(101))\n",
    "print(len(prime_checker.get_primes()))"
   ]
  },
  {
   "cell_type": "code",
   "execution_count": 3,
   "metadata": {},
   "outputs": [
    {
     "name": "stdout",
     "output_type": "stream",
     "text": [
      "[197, 971, 719]\n"
     ]
    }
   ],
   "source": [
    "def rotate_number(n):\n",
    "    rotations = []\n",
    "    s = str(n)\n",
    "    length = len(s)\n",
    "    for i in range(length):\n",
    "        rotation = s[i:] + s[:i]\n",
    "        rotations.append(int(rotation))\n",
    "    return rotations\n",
    "\n",
    "print(rotate_number(197))"
   ]
  },
  {
   "cell_type": "code",
   "execution_count": 6,
   "metadata": {},
   "outputs": [
    {
     "name": "stdout",
     "output_type": "stream",
     "text": [
      "[2,\n",
      " 3,\n",
      " 5,\n",
      " 7,\n",
      " 11,\n",
      " 13,\n",
      " 17,\n",
      " 31,\n",
      " 37,\n",
      " 71,\n",
      " 73,\n",
      " 79,\n",
      " 97,\n",
      " 113,\n",
      " 131,\n",
      " 197,\n",
      " 199,\n",
      " 311,\n",
      " 337,\n",
      " 373,\n",
      " 393919,\n",
      " 719,\n",
      " 733,\n",
      " 919,\n",
      " 971,\n",
      " 991,\n",
      " 1193,\n",
      " 919393,\n",
      " 1931,\n",
      " 3119,\n",
      " 3779,\n",
      " 7793,\n",
      " 7937,\n",
      " 9311,\n",
      " 9377,\n",
      " 11939,\n",
      " 933199,\n",
      " 19391,\n",
      " 19937,\n",
      " 939193,\n",
      " 939391,\n",
      " 37199,\n",
      " 39119,\n",
      " 319993,\n",
      " 193939,\n",
      " 199933,\n",
      " 331999,\n",
      " 71993,\n",
      " 993319,\n",
      " 999331,\n",
      " 91193,\n",
      " 93719,\n",
      " 93911,\n",
      " 99371,\n",
      " 391939]\n",
      "55\n"
     ]
    }
   ],
   "source": [
    "valid_rotations = []\n",
    "\n",
    "for p in prime_checker.get_primes():\n",
    "    rotations = rotate_number(p)\n",
    "    if all(prime_checker.is_prime(r) for r in rotations):\n",
    "        valid_rotations.append(p)\n",
    "\n",
    "valid_rotations.sort()\n",
    "\n",
    "from pprint import pprint\n",
    "pprint(valid_rotations)\n",
    "\n",
    "# Answer: 55\n",
    "print(len(valid_rotations))"
   ]
  },
  {
   "cell_type": "code",
   "execution_count": null,
   "metadata": {},
   "outputs": [],
   "source": []
  }
 ],
 "metadata": {
  "kernelspec": {
   "display_name": ".venv",
   "language": "python",
   "name": "python3"
  },
  "language_info": {
   "codemirror_mode": {
    "name": "ipython",
    "version": 3
   },
   "file_extension": ".py",
   "mimetype": "text/x-python",
   "name": "python",
   "nbconvert_exporter": "python",
   "pygments_lexer": "ipython3",
   "version": "3.12.3"
  }
 },
 "nbformat": 4,
 "nbformat_minor": 2
}
