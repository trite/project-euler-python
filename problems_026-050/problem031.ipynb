{
 "cells": [
  {
   "cell_type": "markdown",
   "metadata": {},
   "source": [
    "In the United Kingdom the currency is made up of pound (£) and pence (p). There are eight coins in general circulation:\n",
    "\n",
    "> 1p, 2p, 5p, 10p, 20p, 50p, £1 (100p), and £2 (200p).\n",
    "\n",
    "It is possible to make £2 in the following way:\n",
    "\n",
    "> 1×£1 + 1×50p + 2×20p + 1×5p + 1×2p + 3×1p\n",
    "\n",
    "How many different ways can £2 be made using any number of coins?"
   ]
  },
  {
   "cell_type": "markdown",
   "metadata": {},
   "source": [
    "# Solution\n",
    "There's some combinatorics formula for figuring this out, but I want to start by actually generating all permutations and then getting the length of the resulting list."
   ]
  },
  {
   "cell_type": "code",
   "execution_count": null,
   "metadata": {},
   "outputs": [
    {
     "name": "stdout",
     "output_type": "stream",
     "text": [
      "[[1, 1, 1, 1, 1, 1, 1, 1, 1, 1],\n",
      " [1, 1, 1, 1, 1, 1, 1, 1, 2],\n",
      " [1, 1, 1, 1, 1, 1, 2, 2],\n",
      " [1, 1, 1, 1, 1, 5],\n",
      " [1, 1, 1, 1, 2, 2, 2],\n",
      " [1, 1, 1, 2, 5],\n",
      " [1, 1, 2, 2, 2, 2],\n",
      " [1, 2, 2, 5],\n",
      " [2, 2, 2, 2, 2],\n",
      " [5, 5]]\n",
      "10\n",
      "73682\n"
     ]
    }
   ],
   "source": [
    "from pprint import pprint\n",
    "\n",
    "def find_combinations(base_numbers, target, current_combination=None, start=0):\n",
    "    if current_combination is None:\n",
    "        current_combination = []\n",
    "\n",
    "    if target == 0:\n",
    "        yield current_combination\n",
    "        return\n",
    "\n",
    "    for i in range(start, len(base_numbers)):\n",
    "        if base_numbers[i] <= target:\n",
    "            yield from find_combinations(base_numbers, target - base_numbers[i], current_combination + [base_numbers[i]], i)\n",
    "\n",
    "pprint(list(find_combinations([1, 2, 5], 10)))\n",
    "print(len(list(find_combinations([1, 2, 5], 10))))\n",
    "\n",
    "# Answer: 73682, takes ~2s to run on this machine\n",
    "print(len(list(find_combinations([1, 2, 5, 10, 20, 50, 100, 200], 200))))"
   ]
  },
  {
   "cell_type": "markdown",
   "metadata": {},
   "source": [
    "# Alternative\n",
    "Wanted to try the combinatorics version as well. Uses the [Stars and Bars](https://en.wikipedia.org/wiki/Stars_and_bars_(combinatorics)) formula in a dynamic programming approach:"
   ]
  },
  {
   "cell_type": "code",
   "execution_count": null,
   "metadata": {},
   "outputs": [
    {
     "name": "stdout",
     "output_type": "stream",
     "text": [
      "10\n",
      "73682\n"
     ]
    }
   ],
   "source": [
    "def count_combinations(base_numbers, target):\n",
    "    dp = [0] * (target + 1)\n",
    "    dp[0] = 1 # there is only one way to make 0, which is not to use any of the base_numbers at all\n",
    "\n",
    "    for num in base_numbers:\n",
    "        for i in range(num, target + 1):\n",
    "            dp[i] += dp[i - num]\n",
    "\n",
    "    return dp[target]\n",
    "\n",
    "print(count_combinations([1, 2, 5], 10))\n",
    "\n",
    "# Answer: 73682, takes ~0s to run on this machine\n",
    "print(count_combinations([1, 2, 5, 10, 20, 50, 100, 200], 200))"
   ]
  }
 ],
 "metadata": {
  "kernelspec": {
   "display_name": ".venv",
   "language": "python",
   "name": "python3"
  },
  "language_info": {
   "codemirror_mode": {
    "name": "ipython",
    "version": 3
   },
   "file_extension": ".py",
   "mimetype": "text/x-python",
   "name": "python",
   "nbconvert_exporter": "python",
   "pygments_lexer": "ipython3",
   "version": "3.10.12"
  }
 },
 "nbformat": 4,
 "nbformat_minor": 2
}
