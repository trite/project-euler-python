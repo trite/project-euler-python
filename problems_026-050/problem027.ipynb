{
 "cells": [
  {
   "cell_type": "markdown",
   "metadata": {},
   "source": [
    "# Problem\n",
    "Euler discovered the remarkable quadratic formula:\n",
    "\n",
    "$n^2 + n + 41$\n",
    "\n",
    "It turns out that the formula will produce $40$ primes for the consecutive integer values $0 \\le n \\le 39$. However, when $n = 40, 40^2 + 40 + 41 = 40(40 + 1) + 41$ is divisible by $41$, and certainly when $n = 41, 41^2 + 41 + 41$ is clearly divisible by $41$.\n",
    "\n",
    "The incredible formula $n^2 - 79n + 1601$ was discovered, which produces $80$ primes for the consecutive values $0 \\le n \\le 79$. The product of the coefficients, $-79$ and $1601$, is $-126479$.\n",
    "\n",
    "Considering quadratics of the form:\n",
    "\n",
    "> $n^2 + an + b$, where $|a| < 1000$ and $|b| \\le 1000$  \n",
    ">   \n",
    "> \n",
    "> where $|n|$ is the modulus/absolute value of $n$  \n",
    "> e.g. $|11| = 11$ and $|-4| = 4$\n",
    "\n",
    "Find the product of the coefficients, $a$ and $b$, for the quadratic expression that produces the maximum number of primes for consecutive values of $n$, starting with $n = 0$."
   ]
  },
  {
   "cell_type": "markdown",
   "metadata": {},
   "source": [
    "# Needed\n",
    "* Function `detect_prime` that detects primes, ideally one that will run quickly when called often.\n",
    "  - Probably comparing against a set of primes up through the largest number we'll be checking. Alternately create a function that holds such a set and auto-expands it if the number is larger than the largest value the current set was generated through.\n",
    "* Function `consecutive_primes` that takes `(a, b)` input and returns how many consecutive values starting from 0 that combination will return.\n",
    "* Need to do a nested loop and test all combinations (probably can skip some if we check for patterns).\n",
    "* Return the combo that resulted in the highest value from `consecutive_primes`"
   ]
  },
  {
   "cell_type": "code",
   "execution_count": 4,
   "metadata": {},
   "outputs": [
    {
     "name": "stdout",
     "output_type": "stream",
     "text": [
      "Sieving up to 1000000\n",
      "True\n",
      "False\n",
      "False\n",
      "True\n"
     ]
    }
   ],
   "source": [
    "class PrimeChecker:\n",
    "    def __init__(self):\n",
    "        starting_limit = 1_000_000\n",
    "        self.primes = set()\n",
    "        self.max_checked = starting_limit\n",
    "        self._sieve_up_to(starting_limit)\n",
    "\n",
    "    # Using the Seive of Eratosthenes to generate all primes up to a limit.\n",
    "    # Not very efficient if the limit increases often, so logging how often\n",
    "    #   it happens to see if that matters before optimizing\n",
    "    def _sieve_up_to(self, limit):\n",
    "        print(f\"Sieving up to {limit}\")\n",
    "        sieve = [True] * (limit + 1)\n",
    "        sieve[0] = sieve[1] = False\n",
    "        for num in range(2, int(limit**0.5) + 1):\n",
    "            if sieve[num]:\n",
    "                for multiple in range(num * num, limit + 1, num):\n",
    "                    sieve[multiple] = False\n",
    "        self.primes.update(num for num, is_prime in enumerate(sieve) if is_prime)\n",
    "        self.max_checked = limit\n",
    "\n",
    "    def is_prime(self, n):\n",
    "        if n <= self.max_checked:\n",
    "            return n in self.primes\n",
    "        else:\n",
    "            self._sieve_up_to(n)\n",
    "            return n in self.primes\n",
    "\n",
    "# Testing\n",
    "prime_checker = PrimeChecker()\n",
    "print(prime_checker.is_prime(29))\n",
    "print(prime_checker.is_prime(30))\n",
    "print(prime_checker.is_prime(100))\n",
    "print(prime_checker.is_prime(101))"
   ]
  },
  {
   "cell_type": "code",
   "execution_count": 6,
   "metadata": {},
   "outputs": [
    {
     "name": "stdout",
     "output_type": "stream",
     "text": [
      "Sieving up to 1000000\n",
      "40\n",
      "80\n"
     ]
    }
   ],
   "source": [
    "def count_consecutive_primes(a, b, prime_checker):\n",
    "    n = 0\n",
    "    while True:\n",
    "        value = n**2 + a*n + b\n",
    "        if value <= 0 or not prime_checker.is_prime(value):\n",
    "            break\n",
    "        n += 1\n",
    "    return n\n",
    "\n",
    "\n",
    "prime_checker = PrimeChecker()\n",
    "\n",
    "print(count_consecutive_primes(1, 41, prime_checker))\n",
    "print(count_consecutive_primes(-79, 1601, prime_checker))"
   ]
  },
  {
   "cell_type": "code",
   "execution_count": null,
   "metadata": {},
   "outputs": [
    {
     "name": "stdout",
     "output_type": "stream",
     "text": [
      "Sieving up to 1000000\n",
      "-61 971 71\n",
      "-59231\n"
     ]
    }
   ],
   "source": [
    "prime_checker = PrimeChecker()\n",
    "max_n = 0\n",
    "max_a = 0\n",
    "max_b = 0\n",
    "\n",
    "for a in range(-999, 1000):\n",
    "    for b in range(-1000, 1001):\n",
    "        n = count_consecutive_primes(a, b, prime_checker)\n",
    "        if n > max_n:\n",
    "            max_n = n\n",
    "            max_a = a\n",
    "            max_b = b\n",
    "\n",
    "print(max_a, max_b, max_n)\n",
    "\n",
    "# Solution: -59231\n",
    "print(max_a * max_b)"
   ]
  }
 ],
 "metadata": {
  "kernelspec": {
   "display_name": ".venv",
   "language": "python",
   "name": "python3"
  },
  "language_info": {
   "codemirror_mode": {
    "name": "ipython",
    "version": 3
   },
   "file_extension": ".py",
   "mimetype": "text/x-python",
   "name": "python",
   "nbconvert_exporter": "python",
   "pygments_lexer": "ipython3",
   "version": "3.12.3"
  }
 },
 "nbformat": 4,
 "nbformat_minor": 2
}
