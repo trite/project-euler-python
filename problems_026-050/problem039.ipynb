{
 "cells": [
  {
   "cell_type": "markdown",
   "metadata": {},
   "source": [
    "If $p$ is the perimeter of a right angle triangle with integral length sides, $\\{a, b, c\\}$, there are exactly three solutions for $p = 120$.\n",
    "\n",
    "$\\{20,48,52\\}$, $\\{24,45,51\\}$, $\\{30,40,50\\}$\n",
    "\n",
    "For which value of $p \\le 1000$, is the number of solutions maximised?"
   ]
  },
  {
   "cell_type": "markdown",
   "metadata": {},
   "source": [
    "# Solution\n",
    "Probably don't need any cleverness on this one, so once again starting with the brute force approach:\n",
    "* Create a function that takes a perimeter value as input and returns all valid right angle triangles that have that perimeter\n",
    "* Map that function against every value in range(1, 1001), find the longest list returned"
   ]
  },
  {
   "cell_type": "code",
   "execution_count": 5,
   "metadata": {},
   "outputs": [
    {
     "name": "stdout",
     "output_type": "stream",
     "text": [
      "[(20, 48, 52), (24, 45, 51), (30, 40, 50)]\n"
     ]
    }
   ],
   "source": [
    "def find_right_angle_triangles(perimeter):\n",
    "    triplets = []\n",
    "    for a in range(1, perimeter // 2):\n",
    "        for b in range(a, (perimeter - a) // 2):\n",
    "            c = perimeter - a - b\n",
    "            if a * a + b * b == c * c:\n",
    "                triplets.append((a, b, c))\n",
    "    return triplets\n",
    "\n",
    "print(find_right_angle_triangles(120))"
   ]
  },
  {
   "cell_type": "code",
   "execution_count": 7,
   "metadata": {},
   "outputs": [
    {
     "name": "stdout",
     "output_type": "stream",
     "text": [
      "840\n",
      "8\n"
     ]
    }
   ],
   "source": [
    "max = None\n",
    "max_len = 0\n",
    "\n",
    "for i in range(1, 1001):\n",
    "    triplets = find_right_angle_triangles(i)\n",
    "    l = len(triplets)\n",
    "    if l > max_len:\n",
    "        max = i\n",
    "        max_len = l\n",
    "\n",
    "# Answer: 840\n",
    "print(max)\n",
    "print(max_len)"
   ]
  }
 ],
 "metadata": {
  "kernelspec": {
   "display_name": ".venv",
   "language": "python",
   "name": "python3"
  },
  "language_info": {
   "codemirror_mode": {
    "name": "ipython",
    "version": 3
   },
   "file_extension": ".py",
   "mimetype": "text/x-python",
   "name": "python",
   "nbconvert_exporter": "python",
   "pygments_lexer": "ipython3",
   "version": "3.12.3"
  }
 },
 "nbformat": 4,
 "nbformat_minor": 2
}
