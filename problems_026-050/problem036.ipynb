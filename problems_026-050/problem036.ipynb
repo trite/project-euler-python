{
 "cells": [
  {
   "cell_type": "markdown",
   "metadata": {},
   "source": [
    "The decimal number, $585 = 1001001001\\\\_2$ (binary), is palindromic in both bases.\n",
    "\n",
    "Find the sum of all numbers, less than one million, which are palindromic in base $10$ and base $2$.\n",
    "\n",
    "(Please note that the palindromic number, in either base, may not include leading zeros.)"
   ]
  },
  {
   "cell_type": "markdown",
   "metadata": {},
   "source": [
    "# Solution:\n",
    "* Functions to convert values between base 2 and base 10 representation\n",
    "* Function to test if a number is palindromic in base 2 and 10\n",
    "* Loop through all values under 1 million, build a list of valid values, then sum it"
   ]
  },
  {
   "cell_type": "code",
   "execution_count": 4,
   "metadata": {},
   "outputs": [
    {
     "name": "stdout",
     "output_type": "stream",
     "text": [
      "1010\n",
      "10\n",
      "\n",
      "1001001001\n",
      "585\n"
     ]
    }
   ],
   "source": [
    "def binary_to_decimal(b):\n",
    "    return int(b, 2)\n",
    "\n",
    "def decimal_to_binary(d):\n",
    "    return bin(d)[2:]\n",
    "\n",
    "print(decimal_to_binary(10))\n",
    "print(binary_to_decimal('1010'))\n",
    "print('')\n",
    "print(decimal_to_binary(585))\n",
    "print(binary_to_decimal('1001001001'))"
   ]
  },
  {
   "cell_type": "code",
   "execution_count": 5,
   "metadata": {},
   "outputs": [
    {
     "name": "stdout",
     "output_type": "stream",
     "text": [
      "True\n",
      "False\n"
     ]
    }
   ],
   "source": [
    "def is_palindrome(s):\n",
    "    return s == s[::-1]\n",
    "\n",
    "def is_double_palindrome(n):\n",
    "    decimal_str = str(n)\n",
    "    if not is_palindrome(decimal_str):\n",
    "        return False\n",
    "    \n",
    "    binary_str = decimal_to_binary(n)\n",
    "    return is_palindrome(binary_str)\n",
    "\n",
    "print(is_double_palindrome(585))\n",
    "print(is_double_palindrome(123))"
   ]
  },
  {
   "cell_type": "code",
   "execution_count": 8,
   "metadata": {},
   "outputs": [
    {
     "name": "stdout",
     "output_type": "stream",
     "text": [
      "[1,\n",
      " 3,\n",
      " 5,\n",
      " 7,\n",
      " 9,\n",
      " 33,\n",
      " 99,\n",
      " 313,\n",
      " 585,\n",
      " 717,\n",
      " 7447,\n",
      " 9009,\n",
      " 15351,\n",
      " 32223,\n",
      " 39993,\n",
      " 53235,\n",
      " 53835,\n",
      " 73737,\n",
      " 585585]\n",
      "872187\n"
     ]
    }
   ],
   "source": [
    "from pprint import pprint\n",
    "\n",
    "valid_double_palindromes = [n for n in range(1, 1_000_000) if is_double_palindrome(n)]\n",
    "pprint(valid_double_palindromes)\n",
    "\n",
    "# Answer: 872187\n",
    "print(sum(valid_double_palindromes))"
   ]
  }
 ],
 "metadata": {
  "kernelspec": {
   "display_name": ".venv",
   "language": "python",
   "name": "python3"
  },
  "language_info": {
   "codemirror_mode": {
    "name": "ipython",
    "version": 3
   },
   "file_extension": ".py",
   "mimetype": "text/x-python",
   "name": "python",
   "nbconvert_exporter": "python",
   "pygments_lexer": "ipython3",
   "version": "3.12.3"
  }
 },
 "nbformat": 4,
 "nbformat_minor": 2
}
