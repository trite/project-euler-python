{
 "cells": [
  {
   "cell_type": "markdown",
   "metadata": {},
   "source": [
    "Surprisingly there are only three numbers that can be written as the sum of fourth powers of their digits:\n",
    "\\begin{align} 1634 &= 1^4 + 6^4 + 3^4 + 4^4\\\\ 8208 &= 8^4 + 2^4 + 0^4 + 8^4\\\\ 9474 &= 9^4 + 4^4 + 7^4 + 4^4 \\end{align}\n",
    "\n",
    "As $1 = 1^4$ is not a sum it is not included.\n",
    "\n",
    "The sum of these numbers is $1634 + 8208 + 9474 = 19316$.\n",
    "\n",
    "Find the sum of all the numbers that can be written as the sum of fifth powers of their digits."
   ]
  },
  {
   "cell_type": "markdown",
   "metadata": {},
   "source": [
    "# Solution:\n",
    "\n",
    "Brute force/naive path is to set a limit and create an iterator containing every element that passes the test, then sum the result. If 1 million proves a reasonable limit I'll likely just leave it at that."
   ]
  },
  {
   "cell_type": "code",
   "execution_count": null,
   "metadata": {},
   "outputs": [
    {
     "name": "stdout",
     "output_type": "stream",
     "text": [
      "19316\n",
      "443839\n"
     ]
    }
   ],
   "source": [
    "def sums_of_powers(power, limit=1_000_000):\n",
    "    return [\n",
    "        i\n",
    "        for i in range(2, limit)\n",
    "        if i == sum(int(digit) ** power for digit in str(i))\n",
    "    ]\n",
    "\n",
    "print(sum(sums_of_powers(4)))\n",
    "\n",
    "# Answer: 443839\n",
    "print(sum(sums_of_powers(5)))"
   ]
  }
 ],
 "metadata": {
  "kernelspec": {
   "display_name": ".venv",
   "language": "python",
   "name": "python3"
  },
  "language_info": {
   "codemirror_mode": {
    "name": "ipython",
    "version": 3
   },
   "file_extension": ".py",
   "mimetype": "text/x-python",
   "name": "python",
   "nbconvert_exporter": "python",
   "pygments_lexer": "ipython3",
   "version": "3.10.12"
  }
 },
 "nbformat": 4,
 "nbformat_minor": 2
}
