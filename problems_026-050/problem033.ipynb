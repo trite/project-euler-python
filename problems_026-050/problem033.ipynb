{
 "cells": [
  {
   "cell_type": "markdown",
   "metadata": {},
   "source": [
    "The fraction $49/98$ is a curious fraction, as an inexperienced mathematician in attempting to simplify it may incorrectly believe that $49/98 = 4/8$, which is correct, is obtained by cancelling the $9$ s.\n",
    "\n",
    "We shall consider fractions like, $30/50 = 3/5$, to be trivial examples.\n",
    "\n",
    "There are exactly four non-trivial examples of this type of fraction, less than one in value, and containing two digits in the numerator and denominator.\n",
    "\n",
    "If the product of these four fractions is given in its lowest common terms, find the value of the denominator."
   ]
  },
  {
   "cell_type": "markdown",
   "metadata": {},
   "source": [
    "# Solution\n",
    "Just gonna brute force this one, there's less than 10k combinations to check."
   ]
  },
  {
   "cell_type": "code",
   "execution_count": 3,
   "metadata": {},
   "outputs": [
    {
     "name": "stdout",
     "output_type": "stream",
     "text": [
      "[(16, 64), (19, 95), (26, 65), (49, 98)]\n"
     ]
    }
   ],
   "source": [
    "special_fractions = []\n",
    "\n",
    "for numerator in range(10, 100):\n",
    "    for denominator in range(10, 100):\n",
    "        if numerator >= denominator:\n",
    "            continue\n",
    "        \n",
    "        num1, num2 = divmod(numerator, 10)\n",
    "        den1, den2 = divmod(denominator, 10)\n",
    "        \n",
    "        if num2 == den1 and den2 != 0 and numerator * den2 == denominator * num1:\n",
    "            special_fractions.append((numerator, denominator))\n",
    "\n",
    "print(special_fractions)"
   ]
  },
  {
   "cell_type": "markdown",
   "metadata": {},
   "source": [
    "Now to multiply and reduce everything:"
   ]
  },
  {
   "cell_type": "code",
   "execution_count": 6,
   "metadata": {},
   "outputs": [
    {
     "name": "stdout",
     "output_type": "stream",
     "text": [
      "100\n"
     ]
    }
   ],
   "source": [
    "from math import gcd\n",
    "from functools import reduce\n",
    "\n",
    "def multiply_fractions(fractions):\n",
    "    # Multiply numerators and denominators\n",
    "    numerator = reduce(lambda x, y: x * y, (frac[0] for frac in fractions))\n",
    "    denominator = reduce(lambda x, y: x * y, (frac[1] for frac in fractions))\n",
    "    \n",
    "    # Reduce the fraction to its lowest terms\n",
    "    common_divisor = gcd(numerator, denominator)\n",
    "    numerator //= common_divisor\n",
    "    denominator //= common_divisor\n",
    "    \n",
    "    return numerator, denominator\n",
    "\n",
    "_, denominator = multiply_fractions(special_fractions)\n",
    "\n",
    "# Answer: 100\n",
    "print(denominator)"
   ]
  }
 ],
 "metadata": {
  "kernelspec": {
   "display_name": ".venv",
   "language": "python",
   "name": "python3"
  },
  "language_info": {
   "codemirror_mode": {
    "name": "ipython",
    "version": 3
   },
   "file_extension": ".py",
   "mimetype": "text/x-python",
   "name": "python",
   "nbconvert_exporter": "python",
   "pygments_lexer": "ipython3",
   "version": "3.12.3"
  }
 },
 "nbformat": 4,
 "nbformat_minor": 2
}
