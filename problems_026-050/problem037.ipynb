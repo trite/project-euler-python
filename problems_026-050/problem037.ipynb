{
 "cells": [
  {
   "cell_type": "markdown",
   "metadata": {},
   "source": [
    "The number $3797$ has an interesting property. Being prime itself, it is possible to continuously remove digits from left to right, and remain prime at each stage: $3797$, $797$, $97$, and $7$. Similarly we can work from right to left: $3797$, $379$, $37$, and $3$.\n",
    "\n",
    "Find the sum of the only eleven primes that are both truncatable from left to right and right to left.\n",
    "\n",
    "NOTE: $2$, $3$, $5$, and $7$ are not considered to be truncatable primes."
   ]
  },
  {
   "cell_type": "markdown",
   "metadata": {},
   "source": [
    "# Solution\n",
    "Gonna start with a mostly brute-force solution and an assumption:\n",
    "* Assume that all 11 relevant primes are less than 1 million to start, if that proves false then expand the set of primes to check\n",
    "* Test for every prime going from least to greatest, skipping values under 10, and stopping once 11 are found\n",
    "\n",
    "At which point the steps are:\n",
    "* Bring over the PrimeChecker class from p35\n",
    "* Create a function that tests if a given value is a \"truncatable prime\" given that value and a list of primes to test"
   ]
  },
  {
   "cell_type": "code",
   "execution_count": 12,
   "metadata": {},
   "outputs": [],
   "source": [
    "# From p35\n",
    "class PrimeChecker:\n",
    "    def __init__(self):\n",
    "        starting_limit = 1_000_000\n",
    "        self.primes = set()\n",
    "        self.max_checked = starting_limit\n",
    "        self._sieve_up_to(starting_limit)\n",
    "\n",
    "    def _sieve_up_to(self, limit):\n",
    "        sieve = [True] * (limit + 1)\n",
    "        sieve[0] = sieve[1] = False\n",
    "        for num in range(2, int(limit**0.5) + 1):\n",
    "            if sieve[num]:\n",
    "                for multiple in range(num * num, limit + 1, num):\n",
    "                    sieve[multiple] = False\n",
    "        self.primes.update(num for num, is_prime in enumerate(sieve) if is_prime)\n",
    "        self.max_checked = limit\n",
    "\n",
    "    def is_prime(self, n):\n",
    "        if n <= self.max_checked:\n",
    "            return n in self.primes\n",
    "        else:\n",
    "            self._sieve_up_to(n)\n",
    "            return n in self.primes\n",
    "\n",
    "    def get_primes(self):\n",
    "        return self.primes"
   ]
  },
  {
   "cell_type": "code",
   "execution_count": 13,
   "metadata": {},
   "outputs": [],
   "source": [
    "def is_truncatable_prime(value, prime_set):\n",
    "    # Check if the value itself is a prime\n",
    "    if value not in prime_set:\n",
    "        return False\n",
    "    \n",
    "    # Check truncations from the right\n",
    "    str_value = str(value)\n",
    "    for i in range(len(str_value)):\n",
    "        if int(str_value[i:]) not in prime_set:\n",
    "            return False\n",
    "    \n",
    "    # Check truncations from the left\n",
    "    for i in range(len(str_value)):\n",
    "        if int(str_value[:len(str_value) - i]) not in prime_set:\n",
    "            return False\n",
    "    \n",
    "    return True"
   ]
  },
  {
   "cell_type": "code",
   "execution_count": 14,
   "metadata": {},
   "outputs": [
    {
     "name": "stdout",
     "output_type": "stream",
     "text": [
      "[23, 37, 53, 73, 313, 317, 373, 797, 3137, 3797, 739397]\n",
      "748317\n"
     ]
    }
   ],
   "source": [
    "prime_checker = PrimeChecker()\n",
    "primes = prime_checker.get_primes()\n",
    "truncatable_primes = []\n",
    "\n",
    "for prime in primes:\n",
    "    if prime < 10:\n",
    "        continue\n",
    "    if is_truncatable_prime(prime, primes):\n",
    "        truncatable_primes.append(prime)\n",
    "        if len(truncatable_primes) == 11:\n",
    "            break\n",
    "\n",
    "print(truncatable_primes)\n",
    "\n",
    "# Answer: 748317\n",
    "print(sum(truncatable_primes))"
   ]
  }
 ],
 "metadata": {
  "kernelspec": {
   "display_name": ".venv",
   "language": "python",
   "name": "python3"
  },
  "language_info": {
   "codemirror_mode": {
    "name": "ipython",
    "version": 3
   },
   "file_extension": ".py",
   "mimetype": "text/x-python",
   "name": "python",
   "nbconvert_exporter": "python",
   "pygments_lexer": "ipython3",
   "version": "3.12.3"
  }
 },
 "nbformat": 4,
 "nbformat_minor": 2
}
