{
 "cells": [
  {
   "cell_type": "markdown",
   "metadata": {},
   "source": [
    "We shall say that an $n$-digit number is pandigital if it makes use of all the digits $1$ to $n$ exactly once; for example, the $5$-digit number, $15234$, is $1$ through $5$ pandigital.\n",
    "\n",
    "The product $7254$ is unusual, as the identity, $39 \\times 186 = 7254$, containing multiplicand, multiplier, and product is $1$ through $9$ pandigital.\n",
    "\n",
    "Find the sum of all products whose multiplicand/multiplier/product identity can be written as a $1$ through $9$ pandigital.\n",
    "\n",
    "HINT: Some products can be obtained in more than one way so be sure to only include it once in your sum."
   ]
  },
  {
   "cell_type": "markdown",
   "metadata": {},
   "source": [
    "# Solution\n",
    "Gonna try the one that seems simplest to reason about at first glance:\n",
    "\n",
    "Create a function that tests if the combo of input numbers (a, b, c) is valid\n",
    "* a * b = c\n",
    "* each digit present exactly once\n",
    "* zero is not present anywhere\n",
    "* total length = 9\n",
    "\n",
    "Then do a nested loop for a/b in some range that should cover all possible combinations\n",
    "* Started with a and b of 1-9999, this was clearly excessive though (the top end would multiply two 4-digit numbers to produce an 8-digit number, which is 7 digits too many)\n",
    "* a = 1-999 and b = 1-9999 works, but it can be reduced some more: max end is generating (3, 4, 7) digits, 5 too many\n",
    "* a = 1-99, b = 1-9999 runs in less than 1s and produces the right output, with a max of (2, 4, 6) digits, which is still excessive by 3 digits\n",
    "\n",
    "That will cover all products of all 1-2 and 1-4 digit non-zero values, ensuring every value that can succeed at least once is tested. However, it also covers a huge chunk of unnecessary numbers given that there are only 9 valid combinations out of the 989901 that are being generated/tested - only 0.0009%. That's fine for now, but might be an interesting one to revisit and ponder on more."
   ]
  },
  {
   "cell_type": "code",
   "execution_count": 1,
   "metadata": {},
   "outputs": [
    {
     "name": "stdout",
     "output_type": "stream",
     "text": [
      "True\n",
      "False\n",
      "False\n"
     ]
    }
   ],
   "source": [
    "def is_valid_combination(a, b, c):\n",
    "    str_a, str_b, str_c = str(a), str(b), str(c)\n",
    "    combined = str_a + str_b + str_c\n",
    "\n",
    "    for digit in '123456789':\n",
    "        if combined.count(digit) != 1:\n",
    "            return False\n",
    "    \n",
    "    if '0' in str_a or '0' in str_b or '0' in str_c:\n",
    "        return False\n",
    "    \n",
    "    if len(combined) != 9:\n",
    "        return False\n",
    "\n",
    "    if a * b != c:\n",
    "        return False\n",
    "    \n",
    "    return True\n",
    "\n",
    "print(is_valid_combination(39, 186, 7254))  # True\n",
    "print(is_valid_combination(12, 34, 56789))  # False\n",
    "print(is_valid_combination(40, 186, 7254))  # False"
   ]
  },
  {
   "cell_type": "code",
   "execution_count": 18,
   "metadata": {},
   "outputs": [
    {
     "name": "stdout",
     "output_type": "stream",
     "text": [
      "45228\n",
      "9\n",
      "989901\n",
      "0.00000909181827273636\n"
     ]
    }
   ],
   "source": [
    "products = list()\n",
    "for a in range(1, 100):\n",
    "    for b in range(1, 10_000):\n",
    "        c = a * b\n",
    "        if is_valid_combination(a, b, c):\n",
    "            products.append(c)\n",
    "\n",
    "# Answer: 45228\n",
    "print(sum(set(products)))\n",
    "\n",
    "print(len(products))\n",
    "print(99*9999)\n",
    "print(f\"{(9/(99*9999)):.20f}\")"
   ]
  }
 ],
 "metadata": {
  "kernelspec": {
   "display_name": ".venv",
   "language": "python",
   "name": "python3"
  },
  "language_info": {
   "codemirror_mode": {
    "name": "ipython",
    "version": 3
   },
   "file_extension": ".py",
   "mimetype": "text/x-python",
   "name": "python",
   "nbconvert_exporter": "python",
   "pygments_lexer": "ipython3",
   "version": "3.10.12"
  }
 },
 "nbformat": 4,
 "nbformat_minor": 2
}
